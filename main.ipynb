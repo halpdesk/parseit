{
 "metadata": {
  "language_info": {
   "codemirror_mode": {
    "name": "ipython",
    "version": 3
   },
   "file_extension": ".py",
   "mimetype": "text/x-python",
   "name": "python",
   "nbconvert_exporter": "python",
   "pygments_lexer": "ipython3",
   "version": "3.8.3-final"
  },
  "orig_nbformat": 2,
  "kernelspec": {
   "name": "Python 3.8.3 64-bit ('python_modules')",
   "display_name": "Python 3.8.3 64-bit ('python_modules')",
   "metadata": {
    "interpreter": {
     "hash": "9634d4b890a726f71d8044046bc71cdc391c406dc663847f104c7db04bcb4cdc"
    }
   }
  }
 },
 "nbformat": 4,
 "nbformat_minor": 2,
 "cells": [
  {
   "cell_type": "code",
   "execution_count": 1,
   "metadata": {},
   "outputs": [],
   "source": [
    "import matplotlib as mpl\n",
    "import matplotlib.pyplot as plt\n",
    "from parseit.data import load_pickle\n",
    "import pandas as pd\n",
    "\n",
    "pd.options.display.min_rows = 100\n",
    "#pd.options.display.max_rows = set larger than dataset\n",
    "pd.options.display.max_columns = 20\n",
    "%matplotlib inline\n",
    "mpl.rcParams[\"figure.figsize\"] = 15,8\n",
    "\n",
    "pickle_df = load_pickle(\"comments.p\")\n",
    "#pickle_df = load_pickle(\"okt-5-10728c.p\")\n",
    "#pickle_df = load_pickle(\"okt-5-43896c.p\")"
   ]
  },
  {
   "cell_type": "code",
   "execution_count": 2,
   "metadata": {
    "tags": []
   },
   "outputs": [],
   "source": [
    "# Make a copy to work from original\n",
    "df = pickle_df.copy()\n",
    "\n",
    "# remove noise\n",
    "df = df[df[\"body\"] != \"[removed]\"]\n",
    "df = df.reset_index()\n",
    "\n",
    "# Feature extraction\n",
    "from modules.tfidf_custom import TfIdfCustom\n",
    "from modules.tfidf import TfIdf\n",
    "from modules.word_stats import WordStats\n",
    "from modules.similarity import Similarity\n",
    "from modules.bag_of_words import BagOfWords\n",
    "from modules.bigram_of_words import BigramOfWords\n",
    "\n",
    "df = WordStats.score(df) # \"words_count\", \"stop_words_count\", \"bad_words_count\", \"bad_words\" \n",
    "df = Similarity.score(df) # \"topic_similarity\"\n",
    "#df, sub = TfIdf.score(df) # \"tfidf_score\" -------- DOES NOT SEEM TO BE WORKING ATM\n",
    "\n",
    "\n"
   ]
  },
  {
   "cell_type": "code",
   "execution_count": 4,
   "metadata": {},
   "outputs": [
    {
     "output_type": "stream",
     "name": "stdout",
     "text": [
      "                                                                                                                                                                                                                                                                                                submission\n595  In 2012, the Obama administration required airlines to show all mandatory fees and taxes in their advertised fares to consumers upfront. This was a massive win for consumers, as airlines were no longer able to pass a large share of the taxes onto consumers. Airlines subsequently lost revenue.\n                                                                                                                                        body\n595  >  airlines were no longer able to pass a large share of the taxes onto consumers.\\n\\nEconomics 101 tells us this isn't how taxes work.\n"
     ]
    },
    {
     "output_type": "display_data",
     "data": {
      "text/plain": "     index                                               body  subreddit  \\\n280    280                                          [deleted]  AskReddit   \n281    281  I spent several seasons working at a remote fi...  AskReddit   \n282    282  My oldest brother used to work the overnight s...  AskReddit   \n283    283  I've worked in Canada's north for a few years ...  AskReddit   \n284    284  I was the creepy occurrence.....\\n\\n&#x200B;\\n...  AskReddit   \n285    285  I spent some time in the peat swamp forests of...  AskReddit   \n286    286  Working on ships. there was one night I was on...  AskReddit   \n287    287  I work for a Medical Examiner and used to be o...  AskReddit   \n288    288  We have a PTO pump spot that comes out of a ca...  AskReddit   \n289    289  I work on large ships. If you get a clear view...  AskReddit   \n290    290                                          [deleted]  AskReddit   \n291    291  When I was a kid living in Queensland, Austral...  AskReddit   \n292    293  Used to teach outdoor education. Which was ess...  AskReddit   \n293    294  I was serving as a fireman for my nation’s com...  AskReddit   \n294    295  Actually I don't work in remote places, but wh...  AskReddit   \n295    296  I worked in a store once in a really small tow...  AskReddit   \n296    297  I used to do agricultural work, alone in a fie...  AskReddit   \n297    298  I’m a little late to this thread but I hope th...  AskReddit   \n298    299  In my brief stint as a rural health nurse, I w...  AskReddit   \n299    300  I used to do salmon spawning surveys, which in...  AskReddit   \n300    301  Merchant seaman here. Nothing particularly cre...  AskReddit   \n301    302  I used to work out in the woods in Florida a l...  AskReddit   \n302    303  I do a lot of work out in the woods.  Creepies...  AskReddit   \n303    304  I worked in a salt mine under Lake Erie a coup...  AskReddit   \n304    305  I used to work on a shrimp trawler. Middle of ...  AskReddit   \n305    306  I worked night shift at a prison for years.\\n\\...  AskReddit   \n306    307  I used to be a delivery driver, which doesn’t ...  AskReddit   \n307    308  I was a field geologist in the Outback about 1...  AskReddit   \n308    309  I was on guard duty at Camp Phoenix on the out...  AskReddit   \n309    310  I’m not sure if this counts because it’s a far...  AskReddit   \n\n                                            submission  label       simil  \n280  Redditors who work at remote places like fores...  36120           0  \n281  Redditors who work at remote places like fores...  12474     0.06925  \n282  Redditors who work at remote places like fores...    678   0.0812164  \n283  Redditors who work at remote places like fores...  28826   0.0739417  \n284  Redditors who work at remote places like fores...  16402   0.0186411  \n285  Redditors who work at remote places like fores...  15341   0.0427757  \n286  Redditors who work at remote places like fores...  10892    0.012134  \n287  Redditors who work at remote places like fores...   3223   0.0294356  \n288  Redditors who work at remote places like fores...   5845  0.00794442  \n289  Redditors who work at remote places like fores...   1630   0.0333811  \n290  Redditors who work at remote places like fores...    295           0  \n291  Redditors who work at remote places like fores...    285   0.0290028  \n292  Redditors who work at remote places like fores...   4083   0.0454174  \n293  Redditors who work at remote places like fores...   7242   0.0324046  \n294  Redditors who work at remote places like fores...   1612    0.124621  \n295  Redditors who work at remote places like fores...  10327   0.0042267  \n296  Redditors who work at remote places like fores...  22653   0.0259113  \n297  Redditors who work at remote places like fores...    259   0.0258532  \n298  Redditors who work at remote places like fores...  12436           0  \n299  Redditors who work at remote places like fores...    957   0.0461425  \n300  Redditors who work at remote places like fores...  11402   0.0753237  \n301  Redditors who work at remote places like fores...    238   0.0485778  \n302  Redditors who work at remote places like fores...  17502   0.0307824  \n303  Redditors who work at remote places like fores...   1062   0.0162291  \n304  Redditors who work at remote places like fores...    650   0.0303493  \n305  Redditors who work at remote places like fores...   9524   0.0313044  \n306  Redditors who work at remote places like fores...  25626   0.0475608  \n307  Redditors who work at remote places like fores...  17539   0.0139467  \n308  Redditors who work at remote places like fores...  14518   0.0222835  \n309  Redditors who work at remote places like fores...  13076   0.0215009  ",
      "text/html": "<div>\n<style scoped>\n    .dataframe tbody tr th:only-of-type {\n        vertical-align: middle;\n    }\n\n    .dataframe tbody tr th {\n        vertical-align: top;\n    }\n\n    .dataframe thead th {\n        text-align: right;\n    }\n</style>\n<table border=\"1\" class=\"dataframe\">\n  <thead>\n    <tr style=\"text-align: right;\">\n      <th></th>\n      <th>index</th>\n      <th>body</th>\n      <th>subreddit</th>\n      <th>submission</th>\n      <th>label</th>\n      <th>simil</th>\n    </tr>\n  </thead>\n  <tbody>\n    <tr>\n      <th>280</th>\n      <td>280</td>\n      <td>[deleted]</td>\n      <td>AskReddit</td>\n      <td>Redditors who work at remote places like fores...</td>\n      <td>36120</td>\n      <td>0</td>\n    </tr>\n    <tr>\n      <th>281</th>\n      <td>281</td>\n      <td>I spent several seasons working at a remote fi...</td>\n      <td>AskReddit</td>\n      <td>Redditors who work at remote places like fores...</td>\n      <td>12474</td>\n      <td>0.06925</td>\n    </tr>\n    <tr>\n      <th>282</th>\n      <td>282</td>\n      <td>My oldest brother used to work the overnight s...</td>\n      <td>AskReddit</td>\n      <td>Redditors who work at remote places like fores...</td>\n      <td>678</td>\n      <td>0.0812164</td>\n    </tr>\n    <tr>\n      <th>283</th>\n      <td>283</td>\n      <td>I've worked in Canada's north for a few years ...</td>\n      <td>AskReddit</td>\n      <td>Redditors who work at remote places like fores...</td>\n      <td>28826</td>\n      <td>0.0739417</td>\n    </tr>\n    <tr>\n      <th>284</th>\n      <td>284</td>\n      <td>I was the creepy occurrence.....\\n\\n&amp;#x200B;\\n...</td>\n      <td>AskReddit</td>\n      <td>Redditors who work at remote places like fores...</td>\n      <td>16402</td>\n      <td>0.0186411</td>\n    </tr>\n    <tr>\n      <th>285</th>\n      <td>285</td>\n      <td>I spent some time in the peat swamp forests of...</td>\n      <td>AskReddit</td>\n      <td>Redditors who work at remote places like fores...</td>\n      <td>15341</td>\n      <td>0.0427757</td>\n    </tr>\n    <tr>\n      <th>286</th>\n      <td>286</td>\n      <td>Working on ships. there was one night I was on...</td>\n      <td>AskReddit</td>\n      <td>Redditors who work at remote places like fores...</td>\n      <td>10892</td>\n      <td>0.012134</td>\n    </tr>\n    <tr>\n      <th>287</th>\n      <td>287</td>\n      <td>I work for a Medical Examiner and used to be o...</td>\n      <td>AskReddit</td>\n      <td>Redditors who work at remote places like fores...</td>\n      <td>3223</td>\n      <td>0.0294356</td>\n    </tr>\n    <tr>\n      <th>288</th>\n      <td>288</td>\n      <td>We have a PTO pump spot that comes out of a ca...</td>\n      <td>AskReddit</td>\n      <td>Redditors who work at remote places like fores...</td>\n      <td>5845</td>\n      <td>0.00794442</td>\n    </tr>\n    <tr>\n      <th>289</th>\n      <td>289</td>\n      <td>I work on large ships. If you get a clear view...</td>\n      <td>AskReddit</td>\n      <td>Redditors who work at remote places like fores...</td>\n      <td>1630</td>\n      <td>0.0333811</td>\n    </tr>\n    <tr>\n      <th>290</th>\n      <td>290</td>\n      <td>[deleted]</td>\n      <td>AskReddit</td>\n      <td>Redditors who work at remote places like fores...</td>\n      <td>295</td>\n      <td>0</td>\n    </tr>\n    <tr>\n      <th>291</th>\n      <td>291</td>\n      <td>When I was a kid living in Queensland, Austral...</td>\n      <td>AskReddit</td>\n      <td>Redditors who work at remote places like fores...</td>\n      <td>285</td>\n      <td>0.0290028</td>\n    </tr>\n    <tr>\n      <th>292</th>\n      <td>293</td>\n      <td>Used to teach outdoor education. Which was ess...</td>\n      <td>AskReddit</td>\n      <td>Redditors who work at remote places like fores...</td>\n      <td>4083</td>\n      <td>0.0454174</td>\n    </tr>\n    <tr>\n      <th>293</th>\n      <td>294</td>\n      <td>I was serving as a fireman for my nation’s com...</td>\n      <td>AskReddit</td>\n      <td>Redditors who work at remote places like fores...</td>\n      <td>7242</td>\n      <td>0.0324046</td>\n    </tr>\n    <tr>\n      <th>294</th>\n      <td>295</td>\n      <td>Actually I don't work in remote places, but wh...</td>\n      <td>AskReddit</td>\n      <td>Redditors who work at remote places like fores...</td>\n      <td>1612</td>\n      <td>0.124621</td>\n    </tr>\n    <tr>\n      <th>295</th>\n      <td>296</td>\n      <td>I worked in a store once in a really small tow...</td>\n      <td>AskReddit</td>\n      <td>Redditors who work at remote places like fores...</td>\n      <td>10327</td>\n      <td>0.0042267</td>\n    </tr>\n    <tr>\n      <th>296</th>\n      <td>297</td>\n      <td>I used to do agricultural work, alone in a fie...</td>\n      <td>AskReddit</td>\n      <td>Redditors who work at remote places like fores...</td>\n      <td>22653</td>\n      <td>0.0259113</td>\n    </tr>\n    <tr>\n      <th>297</th>\n      <td>298</td>\n      <td>I’m a little late to this thread but I hope th...</td>\n      <td>AskReddit</td>\n      <td>Redditors who work at remote places like fores...</td>\n      <td>259</td>\n      <td>0.0258532</td>\n    </tr>\n    <tr>\n      <th>298</th>\n      <td>299</td>\n      <td>In my brief stint as a rural health nurse, I w...</td>\n      <td>AskReddit</td>\n      <td>Redditors who work at remote places like fores...</td>\n      <td>12436</td>\n      <td>0</td>\n    </tr>\n    <tr>\n      <th>299</th>\n      <td>300</td>\n      <td>I used to do salmon spawning surveys, which in...</td>\n      <td>AskReddit</td>\n      <td>Redditors who work at remote places like fores...</td>\n      <td>957</td>\n      <td>0.0461425</td>\n    </tr>\n    <tr>\n      <th>300</th>\n      <td>301</td>\n      <td>Merchant seaman here. Nothing particularly cre...</td>\n      <td>AskReddit</td>\n      <td>Redditors who work at remote places like fores...</td>\n      <td>11402</td>\n      <td>0.0753237</td>\n    </tr>\n    <tr>\n      <th>301</th>\n      <td>302</td>\n      <td>I used to work out in the woods in Florida a l...</td>\n      <td>AskReddit</td>\n      <td>Redditors who work at remote places like fores...</td>\n      <td>238</td>\n      <td>0.0485778</td>\n    </tr>\n    <tr>\n      <th>302</th>\n      <td>303</td>\n      <td>I do a lot of work out in the woods.  Creepies...</td>\n      <td>AskReddit</td>\n      <td>Redditors who work at remote places like fores...</td>\n      <td>17502</td>\n      <td>0.0307824</td>\n    </tr>\n    <tr>\n      <th>303</th>\n      <td>304</td>\n      <td>I worked in a salt mine under Lake Erie a coup...</td>\n      <td>AskReddit</td>\n      <td>Redditors who work at remote places like fores...</td>\n      <td>1062</td>\n      <td>0.0162291</td>\n    </tr>\n    <tr>\n      <th>304</th>\n      <td>305</td>\n      <td>I used to work on a shrimp trawler. Middle of ...</td>\n      <td>AskReddit</td>\n      <td>Redditors who work at remote places like fores...</td>\n      <td>650</td>\n      <td>0.0303493</td>\n    </tr>\n    <tr>\n      <th>305</th>\n      <td>306</td>\n      <td>I worked night shift at a prison for years.\\n\\...</td>\n      <td>AskReddit</td>\n      <td>Redditors who work at remote places like fores...</td>\n      <td>9524</td>\n      <td>0.0313044</td>\n    </tr>\n    <tr>\n      <th>306</th>\n      <td>307</td>\n      <td>I used to be a delivery driver, which doesn’t ...</td>\n      <td>AskReddit</td>\n      <td>Redditors who work at remote places like fores...</td>\n      <td>25626</td>\n      <td>0.0475608</td>\n    </tr>\n    <tr>\n      <th>307</th>\n      <td>308</td>\n      <td>I was a field geologist in the Outback about 1...</td>\n      <td>AskReddit</td>\n      <td>Redditors who work at remote places like fores...</td>\n      <td>17539</td>\n      <td>0.0139467</td>\n    </tr>\n    <tr>\n      <th>308</th>\n      <td>309</td>\n      <td>I was on guard duty at Camp Phoenix on the out...</td>\n      <td>AskReddit</td>\n      <td>Redditors who work at remote places like fores...</td>\n      <td>14518</td>\n      <td>0.0222835</td>\n    </tr>\n    <tr>\n      <th>309</th>\n      <td>310</td>\n      <td>I’m not sure if this counts because it’s a far...</td>\n      <td>AskReddit</td>\n      <td>Redditors who work at remote places like fores...</td>\n      <td>13076</td>\n      <td>0.0215009</td>\n    </tr>\n  </tbody>\n</table>\n</div>"
     },
     "metadata": {}
    }
   ],
   "source": [
    "inspect = df.loc[[595]] # text similarity 0.4 \n",
    "#inspect = df.loc[[230]] # text similarity 0.2\n",
    "print(inspect[[\"submission\"]].to_string())\n",
    "print(inspect[[\"body\"]].to_string())\n",
    "idx = 280\n",
    "display(df[idx:idx+30])"
   ]
  }
 ]
}