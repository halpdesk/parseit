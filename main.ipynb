{
 "metadata": {
  "language_info": {
   "codemirror_mode": {
    "name": "ipython",
    "version": 3
   },
   "file_extension": ".py",
   "mimetype": "text/x-python",
   "name": "python",
   "nbconvert_exporter": "python",
   "pygments_lexer": "ipython3",
   "version": "3.8.3-final"
  },
  "orig_nbformat": 2,
  "kernelspec": {
   "name": "Python 3.8.3 64-bit ('python_modules')",
   "display_name": "Python 3.8.3 64-bit ('python_modules')",
   "metadata": {
    "interpreter": {
     "hash": "9634d4b890a726f71d8044046bc71cdc391c406dc663847f104c7db04bcb4cdc"
    }
   }
  }
 },
 "nbformat": 4,
 "nbformat_minor": 2,
 "cells": [
  {
   "cell_type": "code",
   "execution_count": 1,
   "metadata": {},
   "outputs": [
    {
     "output_type": "display_data",
     "data": {
      "text/plain": "                                                    body          subreddit  \\\n0      i guess he did outlive his life expectancy by ...            science   \n1      Woah. One of those deaths you always saw comin...            science   \n2      “We have this one life to appreciate the grand...            science   \n3      “I have lived with the prospect of an early de...            science   \n4      Remember to look up at the stars and not down ...            science   \n...                                                  ...                ...   \n10723  My brother has Hashimoto's disease which is an...  explainlikeimfive   \n10724  I really have no evidence, but just a theory. ...  explainlikeimfive   \n10725  Most bread for most regions was gluten free an...  explainlikeimfive   \n10726  5,000 years?\\n\\nTry 200,000 years, sir/ma'am.\\...  explainlikeimfive   \n10727  Todays grains are not our grandparents grains....  explainlikeimfive   \n\n                                              submission  tfidf_score  \\\n0                 Physicist Stephen Hawking dies aged 76            0   \n1                 Physicist Stephen Hawking dies aged 76            0   \n2                 Physicist Stephen Hawking dies aged 76            0   \n3                 Physicist Stephen Hawking dies aged 76            0   \n4                 Physicist Stephen Hawking dies aged 76            0   \n...                                                  ...          ...   \n10723  ELI5:How after 5000 years of humanity survivin...            0   \n10724  ELI5:How after 5000 years of humanity survivin...            0   \n10725  ELI5:How after 5000 years of humanity survivin...            0   \n10726  ELI5:How after 5000 years of humanity survivin...            0   \n10727  ELI5:How after 5000 years of humanity survivin...            0   \n\n       tfidf_custom_score  length  sentences  common_word  words_count  \\\n0                       0       0          0            0            0   \n1                       0       0          0            0            0   \n2                       0       0          0            0            0   \n3                       0       0          0            0            0   \n4                       0       0          0            0            0   \n...                   ...     ...        ...          ...          ...   \n10723                   0       0          0            0            0   \n10724                   0       0          0            0            0   \n10725                   0       0          0            0            0   \n10726                   0       0          0            0            0   \n10727                   0       0          0            0            0   \n\n       stop_words_count  bad_words_count bad_words  letter_count  emoticons  \\\n0                     0                0                       0      False   \n1                     0                0                       0      False   \n2                     0                0                       0      False   \n3                     0                0                       0      False   \n4                     0                0                       0      False   \n...                 ...              ...       ...           ...        ...   \n10723                 0                0                       0      False   \n10724                 0                0                       0      False   \n10725                 0                0                       0      False   \n10726                 0                0                       0      False   \n10727                 0                0                       0      False   \n\n       aspectual_class  reichenbach_tense  topic_similarity  label  \n0                    0                  0                 0   8256  \n1                    0                  0                 0   9470  \n2                    0                  0                 0  12774  \n3                    0                  0                 0  27266  \n4                    0                  0                 0   9766  \n...                ...                ...               ...    ...  \n10723                0                  0                 0    -14  \n10724                0                  0                 0     -1  \n10725                0                  0                 0    -19  \n10726                0                  0                 0     -7  \n10727                0                  0                 0    -22  \n\n[10728 rows x 18 columns]",
      "text/html": "<div>\n<style scoped>\n    .dataframe tbody tr th:only-of-type {\n        vertical-align: middle;\n    }\n\n    .dataframe tbody tr th {\n        vertical-align: top;\n    }\n\n    .dataframe thead th {\n        text-align: right;\n    }\n</style>\n<table border=\"1\" class=\"dataframe\">\n  <thead>\n    <tr style=\"text-align: right;\">\n      <th></th>\n      <th>body</th>\n      <th>subreddit</th>\n      <th>submission</th>\n      <th>tfidf_score</th>\n      <th>tfidf_custom_score</th>\n      <th>length</th>\n      <th>sentences</th>\n      <th>common_word</th>\n      <th>words_count</th>\n      <th>stop_words_count</th>\n      <th>bad_words_count</th>\n      <th>bad_words</th>\n      <th>letter_count</th>\n      <th>emoticons</th>\n      <th>aspectual_class</th>\n      <th>reichenbach_tense</th>\n      <th>topic_similarity</th>\n      <th>label</th>\n    </tr>\n  </thead>\n  <tbody>\n    <tr>\n      <th>0</th>\n      <td>i guess he did outlive his life expectancy by ...</td>\n      <td>science</td>\n      <td>Physicist Stephen Hawking dies aged 76</td>\n      <td>0</td>\n      <td>0</td>\n      <td>0</td>\n      <td>0</td>\n      <td>0</td>\n      <td>0</td>\n      <td>0</td>\n      <td>0</td>\n      <td></td>\n      <td>0</td>\n      <td>False</td>\n      <td>0</td>\n      <td>0</td>\n      <td>0</td>\n      <td>8256</td>\n    </tr>\n    <tr>\n      <th>1</th>\n      <td>Woah. One of those deaths you always saw comin...</td>\n      <td>science</td>\n      <td>Physicist Stephen Hawking dies aged 76</td>\n      <td>0</td>\n      <td>0</td>\n      <td>0</td>\n      <td>0</td>\n      <td>0</td>\n      <td>0</td>\n      <td>0</td>\n      <td>0</td>\n      <td></td>\n      <td>0</td>\n      <td>False</td>\n      <td>0</td>\n      <td>0</td>\n      <td>0</td>\n      <td>9470</td>\n    </tr>\n    <tr>\n      <th>2</th>\n      <td>“We have this one life to appreciate the grand...</td>\n      <td>science</td>\n      <td>Physicist Stephen Hawking dies aged 76</td>\n      <td>0</td>\n      <td>0</td>\n      <td>0</td>\n      <td>0</td>\n      <td>0</td>\n      <td>0</td>\n      <td>0</td>\n      <td>0</td>\n      <td></td>\n      <td>0</td>\n      <td>False</td>\n      <td>0</td>\n      <td>0</td>\n      <td>0</td>\n      <td>12774</td>\n    </tr>\n    <tr>\n      <th>3</th>\n      <td>“I have lived with the prospect of an early de...</td>\n      <td>science</td>\n      <td>Physicist Stephen Hawking dies aged 76</td>\n      <td>0</td>\n      <td>0</td>\n      <td>0</td>\n      <td>0</td>\n      <td>0</td>\n      <td>0</td>\n      <td>0</td>\n      <td>0</td>\n      <td></td>\n      <td>0</td>\n      <td>False</td>\n      <td>0</td>\n      <td>0</td>\n      <td>0</td>\n      <td>27266</td>\n    </tr>\n    <tr>\n      <th>4</th>\n      <td>Remember to look up at the stars and not down ...</td>\n      <td>science</td>\n      <td>Physicist Stephen Hawking dies aged 76</td>\n      <td>0</td>\n      <td>0</td>\n      <td>0</td>\n      <td>0</td>\n      <td>0</td>\n      <td>0</td>\n      <td>0</td>\n      <td>0</td>\n      <td></td>\n      <td>0</td>\n      <td>False</td>\n      <td>0</td>\n      <td>0</td>\n      <td>0</td>\n      <td>9766</td>\n    </tr>\n    <tr>\n      <th>...</th>\n      <td>...</td>\n      <td>...</td>\n      <td>...</td>\n      <td>...</td>\n      <td>...</td>\n      <td>...</td>\n      <td>...</td>\n      <td>...</td>\n      <td>...</td>\n      <td>...</td>\n      <td>...</td>\n      <td>...</td>\n      <td>...</td>\n      <td>...</td>\n      <td>...</td>\n      <td>...</td>\n      <td>...</td>\n      <td>...</td>\n    </tr>\n    <tr>\n      <th>10723</th>\n      <td>My brother has Hashimoto's disease which is an...</td>\n      <td>explainlikeimfive</td>\n      <td>ELI5:How after 5000 years of humanity survivin...</td>\n      <td>0</td>\n      <td>0</td>\n      <td>0</td>\n      <td>0</td>\n      <td>0</td>\n      <td>0</td>\n      <td>0</td>\n      <td>0</td>\n      <td></td>\n      <td>0</td>\n      <td>False</td>\n      <td>0</td>\n      <td>0</td>\n      <td>0</td>\n      <td>-14</td>\n    </tr>\n    <tr>\n      <th>10724</th>\n      <td>I really have no evidence, but just a theory. ...</td>\n      <td>explainlikeimfive</td>\n      <td>ELI5:How after 5000 years of humanity survivin...</td>\n      <td>0</td>\n      <td>0</td>\n      <td>0</td>\n      <td>0</td>\n      <td>0</td>\n      <td>0</td>\n      <td>0</td>\n      <td>0</td>\n      <td></td>\n      <td>0</td>\n      <td>False</td>\n      <td>0</td>\n      <td>0</td>\n      <td>0</td>\n      <td>-1</td>\n    </tr>\n    <tr>\n      <th>10725</th>\n      <td>Most bread for most regions was gluten free an...</td>\n      <td>explainlikeimfive</td>\n      <td>ELI5:How after 5000 years of humanity survivin...</td>\n      <td>0</td>\n      <td>0</td>\n      <td>0</td>\n      <td>0</td>\n      <td>0</td>\n      <td>0</td>\n      <td>0</td>\n      <td>0</td>\n      <td></td>\n      <td>0</td>\n      <td>False</td>\n      <td>0</td>\n      <td>0</td>\n      <td>0</td>\n      <td>-19</td>\n    </tr>\n    <tr>\n      <th>10726</th>\n      <td>5,000 years?\\n\\nTry 200,000 years, sir/ma'am.\\...</td>\n      <td>explainlikeimfive</td>\n      <td>ELI5:How after 5000 years of humanity survivin...</td>\n      <td>0</td>\n      <td>0</td>\n      <td>0</td>\n      <td>0</td>\n      <td>0</td>\n      <td>0</td>\n      <td>0</td>\n      <td>0</td>\n      <td></td>\n      <td>0</td>\n      <td>False</td>\n      <td>0</td>\n      <td>0</td>\n      <td>0</td>\n      <td>-7</td>\n    </tr>\n    <tr>\n      <th>10727</th>\n      <td>Todays grains are not our grandparents grains....</td>\n      <td>explainlikeimfive</td>\n      <td>ELI5:How after 5000 years of humanity survivin...</td>\n      <td>0</td>\n      <td>0</td>\n      <td>0</td>\n      <td>0</td>\n      <td>0</td>\n      <td>0</td>\n      <td>0</td>\n      <td>0</td>\n      <td></td>\n      <td>0</td>\n      <td>False</td>\n      <td>0</td>\n      <td>0</td>\n      <td>0</td>\n      <td>-22</td>\n    </tr>\n  </tbody>\n</table>\n<p>10728 rows × 18 columns</p>\n</div>"
     },
     "metadata": {}
    }
   ],
   "source": [
    "import matplotlib as mpl\n",
    "import matplotlib.pyplot as plt\n",
    "from modules.tfidf_custom import TfIdfCustom\n",
    "from modules.tfidf import TfIdf\n",
    "from modules.word_stats import WordStats\n",
    "from modules.similarity import Similarity\n",
    "from models.knnreg import KnnReg\n",
    "from modules.data import fetch_fresh, load_pickle, save_pickle\n",
    "from modules.stats import score_distribution_plot, words_count_plot, tfidf_custom_score_plot, topic_similarity_score_plot\n",
    "import pandas as pd\n",
    "# from scipy.stats import binned_statistic\n",
    "import sys\n",
    "import argparse\n",
    "pickle_df = load_pickle(\"okt-5-10728c.p\")\n",
    "display(pickle_df)"
   ]
  },
  {
   "cell_type": "code",
   "execution_count": 2,
   "metadata": {},
   "outputs": [],
   "source": [
    "pd.options.display.min_rows = 100\n",
    "#pd.options.display.max_rows = set larger than dataset\n",
    "pd.options.display.max_columns = 20\n",
    "%matplotlib inline\n",
    "mpl.rcParams[\"figure.figsize\"] = 15,8"
   ]
  },
  {
   "cell_type": "code",
   "execution_count": 3,
   "metadata": {},
   "outputs": [],
   "source": [
    "df = pickle_df.copy()"
   ]
  },
  {
   "cell_type": "code",
   "execution_count": 4,
   "metadata": {},
   "outputs": [],
   "source": [
    "# remove noise\n",
    "df = df[df[\"body\"] != \"[removed]\"]\n",
    "df = df.reset_index()\n"
   ]
  },
  {
   "cell_type": "code",
   "execution_count": 5,
   "metadata": {},
   "outputs": [],
   "source": [
    "\n",
    "similarity = Similarity()\n",
    "similarity.score(df) # \"topic_similarity\"\n",
    "\n",
    "word_stats = WordStats()\n",
    "df = word_stats.score(df) # \"words_count\", \"stop_words_count\", \"bad_words_count\", \"bad_words\"\n",
    "\n",
    "tfidf_custom = TfIdfCustom()\n",
    "df = tfidf_custom.score(df) # \"tfidf_custom_score\"\n",
    "\n",
    "tfidf = TfIdf()\n",
    "df = tfidf.score(df) # \"tfidf_score\""
   ]
  },
  {
   "cell_type": "code",
   "execution_count": 6,
   "metadata": {},
   "outputs": [
    {
     "output_type": "stream",
     "name": "stdout",
     "text": [
      "                                                                                                                                           submission\n1201  Science Ama Series: I am Stephen Hawking, theoretical physicist. Join me to talk about making the future of technology more human, reddit. AMA!\n                                                                                                                                                                                                                body\n1201  Good morning/afternoon professor Hawking, I always wondered, what was the one scientific discovery that has absolutely  baffled you? Recent or not. Thanks in advance if you get to this.\\n\\nEdit: spelling <3\n"
     ]
    },
    {
     "output_type": "display_data",
     "data": {
      "text/plain": "      topic_similarity  tfidf_score  words_count  stop_words_count  \\\n1201          0.008336     4.275318         28.0              11.0   \n\n      bad_words_count bad_words   label  \n1201              0.0            1545.0  ",
      "text/html": "<div>\n<style scoped>\n    .dataframe tbody tr th:only-of-type {\n        vertical-align: middle;\n    }\n\n    .dataframe tbody tr th {\n        vertical-align: top;\n    }\n\n    .dataframe thead th {\n        text-align: right;\n    }\n</style>\n<table border=\"1\" class=\"dataframe\">\n  <thead>\n    <tr style=\"text-align: right;\">\n      <th></th>\n      <th>topic_similarity</th>\n      <th>tfidf_score</th>\n      <th>words_count</th>\n      <th>stop_words_count</th>\n      <th>bad_words_count</th>\n      <th>bad_words</th>\n      <th>label</th>\n    </tr>\n  </thead>\n  <tbody>\n    <tr>\n      <th>1201</th>\n      <td>0.008336</td>\n      <td>4.275318</td>\n      <td>28.0</td>\n      <td>11.0</td>\n      <td>0.0</td>\n      <td></td>\n      <td>1545.0</td>\n    </tr>\n  </tbody>\n</table>\n</div>"
     },
     "metadata": {}
    },
    {
     "output_type": "display_data",
     "data": {
      "text/plain": "                                                   body  \\\n1200  Professor Hawking, thank you for doing an AMA....   \n1201  Good morning/afternoon professor Hawking, I al...   \n1202  Professor Hawking, \\n\\nWhile many experts in t...   \n1203  Dear Professor Hawking,\\n\\nIf you were 24 or 2...   \n1204  Hello Professor Hawking,\\n\\nIf we discovered a...   \n1205             How long will it take to get answers ?   \n1206  Hello Professor Hawking, thank you for doing t...   \n1207                                          [deleted]   \n1208  This was a question proposed by one of my stud...   \n1209  **How important do you think [simulating] \"emo...   \n1210  Hello Professor Hawking!\\n\\nSome people think ...   \n1211  Hello Professor Hawking and thank you for comi...   \n1212  When will Mr Hawking respond to these questions?    \n1213                      Can we get an update on this?   \n1214  Hi Professor Hawking. Thank you very much for ...   \n1215  Hello sir, thank you for the AMA. What laypers...   \n\n                                             submission  topic_similarity  \\\n1200  Science Ama Series: I am Stephen Hawking, theo...          0.024223   \n1201  Science Ama Series: I am Stephen Hawking, theo...          0.008336   \n1202  Science Ama Series: I am Stephen Hawking, theo...          0.003233   \n1203  Science Ama Series: I am Stephen Hawking, theo...          0.009422   \n1204  Science Ama Series: I am Stephen Hawking, theo...          0.009584   \n1205  Science Ama Series: I am Stephen Hawking, theo...          0.000000   \n1206  Science Ama Series: I am Stephen Hawking, theo...          0.066364   \n1207  Science Ama Series: I am Stephen Hawking, theo...          0.000000   \n1208  Science Ama Series: I am Stephen Hawking, theo...          0.040634   \n1209  Science Ama Series: I am Stephen Hawking, theo...          0.011513   \n1210  Science Ama Series: I am Stephen Hawking, theo...          0.058067   \n1211  Science Ama Series: I am Stephen Hawking, theo...          0.075420   \n1212  Science Ama Series: I am Stephen Hawking, theo...          0.022729   \n1213  Science Ama Series: I am Stephen Hawking, theo...          0.000000   \n1214  Science Ama Series: I am Stephen Hawking, theo...          0.053003   \n1215  Science Ama Series: I am Stephen Hawking, theo...          0.077944   \n\n      tfidf_score  words_count  stop_words_count  bad_words_count bad_words  \\\n1200     7.347534         99.0              59.0              0.0             \n1201     4.275318         28.0              11.0              0.0             \n1202     7.553637         96.0              54.0              0.0             \n1203     4.151175         23.0              13.0              0.0             \n1204     3.625367         19.0              16.0              0.0             \n1205     2.095791          5.0               4.0              0.0             \n1206     5.035748         41.0              27.0              0.0             \n1207     1.720045          3.0               0.0              0.0             \n1208     7.382726        113.0              74.0              0.0             \n1209     6.791463        104.0              40.0              0.0             \n1210     4.808328         63.0              46.0              0.0             \n1211     7.809000        109.0              84.0              0.0             \n1212     2.022287          5.0               4.0              0.0             \n1213     1.561072          4.0               4.0              0.0             \n1214     9.059358        178.0             114.0              0.0             \n1215     2.810865         12.0               9.0              0.0             \n\n       label  \n1200   802.0  \n1201  1545.0  \n1202  3157.0  \n1203  2072.0  \n1204  5140.0  \n1205    50.0  \n1206  2285.0  \n1207   708.0  \n1208  2146.0  \n1209  1546.0  \n1210   623.0  \n1211  1696.0  \n1212    34.0  \n1213    32.0  \n1214  3255.0  \n1215  1179.0  ",
      "text/html": "<div>\n<style scoped>\n    .dataframe tbody tr th:only-of-type {\n        vertical-align: middle;\n    }\n\n    .dataframe tbody tr th {\n        vertical-align: top;\n    }\n\n    .dataframe thead th {\n        text-align: right;\n    }\n</style>\n<table border=\"1\" class=\"dataframe\">\n  <thead>\n    <tr style=\"text-align: right;\">\n      <th></th>\n      <th>body</th>\n      <th>submission</th>\n      <th>topic_similarity</th>\n      <th>tfidf_score</th>\n      <th>words_count</th>\n      <th>stop_words_count</th>\n      <th>bad_words_count</th>\n      <th>bad_words</th>\n      <th>label</th>\n    </tr>\n  </thead>\n  <tbody>\n    <tr>\n      <th>1200</th>\n      <td>Professor Hawking, thank you for doing an AMA....</td>\n      <td>Science Ama Series: I am Stephen Hawking, theo...</td>\n      <td>0.024223</td>\n      <td>7.347534</td>\n      <td>99.0</td>\n      <td>59.0</td>\n      <td>0.0</td>\n      <td></td>\n      <td>802.0</td>\n    </tr>\n    <tr>\n      <th>1201</th>\n      <td>Good morning/afternoon professor Hawking, I al...</td>\n      <td>Science Ama Series: I am Stephen Hawking, theo...</td>\n      <td>0.008336</td>\n      <td>4.275318</td>\n      <td>28.0</td>\n      <td>11.0</td>\n      <td>0.0</td>\n      <td></td>\n      <td>1545.0</td>\n    </tr>\n    <tr>\n      <th>1202</th>\n      <td>Professor Hawking, \\n\\nWhile many experts in t...</td>\n      <td>Science Ama Series: I am Stephen Hawking, theo...</td>\n      <td>0.003233</td>\n      <td>7.553637</td>\n      <td>96.0</td>\n      <td>54.0</td>\n      <td>0.0</td>\n      <td></td>\n      <td>3157.0</td>\n    </tr>\n    <tr>\n      <th>1203</th>\n      <td>Dear Professor Hawking,\\n\\nIf you were 24 or 2...</td>\n      <td>Science Ama Series: I am Stephen Hawking, theo...</td>\n      <td>0.009422</td>\n      <td>4.151175</td>\n      <td>23.0</td>\n      <td>13.0</td>\n      <td>0.0</td>\n      <td></td>\n      <td>2072.0</td>\n    </tr>\n    <tr>\n      <th>1204</th>\n      <td>Hello Professor Hawking,\\n\\nIf we discovered a...</td>\n      <td>Science Ama Series: I am Stephen Hawking, theo...</td>\n      <td>0.009584</td>\n      <td>3.625367</td>\n      <td>19.0</td>\n      <td>16.0</td>\n      <td>0.0</td>\n      <td></td>\n      <td>5140.0</td>\n    </tr>\n    <tr>\n      <th>1205</th>\n      <td>How long will it take to get answers ?</td>\n      <td>Science Ama Series: I am Stephen Hawking, theo...</td>\n      <td>0.000000</td>\n      <td>2.095791</td>\n      <td>5.0</td>\n      <td>4.0</td>\n      <td>0.0</td>\n      <td></td>\n      <td>50.0</td>\n    </tr>\n    <tr>\n      <th>1206</th>\n      <td>Hello Professor Hawking, thank you for doing t...</td>\n      <td>Science Ama Series: I am Stephen Hawking, theo...</td>\n      <td>0.066364</td>\n      <td>5.035748</td>\n      <td>41.0</td>\n      <td>27.0</td>\n      <td>0.0</td>\n      <td></td>\n      <td>2285.0</td>\n    </tr>\n    <tr>\n      <th>1207</th>\n      <td>[deleted]</td>\n      <td>Science Ama Series: I am Stephen Hawking, theo...</td>\n      <td>0.000000</td>\n      <td>1.720045</td>\n      <td>3.0</td>\n      <td>0.0</td>\n      <td>0.0</td>\n      <td></td>\n      <td>708.0</td>\n    </tr>\n    <tr>\n      <th>1208</th>\n      <td>This was a question proposed by one of my stud...</td>\n      <td>Science Ama Series: I am Stephen Hawking, theo...</td>\n      <td>0.040634</td>\n      <td>7.382726</td>\n      <td>113.0</td>\n      <td>74.0</td>\n      <td>0.0</td>\n      <td></td>\n      <td>2146.0</td>\n    </tr>\n    <tr>\n      <th>1209</th>\n      <td>**How important do you think [simulating] \"emo...</td>\n      <td>Science Ama Series: I am Stephen Hawking, theo...</td>\n      <td>0.011513</td>\n      <td>6.791463</td>\n      <td>104.0</td>\n      <td>40.0</td>\n      <td>0.0</td>\n      <td></td>\n      <td>1546.0</td>\n    </tr>\n    <tr>\n      <th>1210</th>\n      <td>Hello Professor Hawking!\\n\\nSome people think ...</td>\n      <td>Science Ama Series: I am Stephen Hawking, theo...</td>\n      <td>0.058067</td>\n      <td>4.808328</td>\n      <td>63.0</td>\n      <td>46.0</td>\n      <td>0.0</td>\n      <td></td>\n      <td>623.0</td>\n    </tr>\n    <tr>\n      <th>1211</th>\n      <td>Hello Professor Hawking and thank you for comi...</td>\n      <td>Science Ama Series: I am Stephen Hawking, theo...</td>\n      <td>0.075420</td>\n      <td>7.809000</td>\n      <td>109.0</td>\n      <td>84.0</td>\n      <td>0.0</td>\n      <td></td>\n      <td>1696.0</td>\n    </tr>\n    <tr>\n      <th>1212</th>\n      <td>When will Mr Hawking respond to these questions?</td>\n      <td>Science Ama Series: I am Stephen Hawking, theo...</td>\n      <td>0.022729</td>\n      <td>2.022287</td>\n      <td>5.0</td>\n      <td>4.0</td>\n      <td>0.0</td>\n      <td></td>\n      <td>34.0</td>\n    </tr>\n    <tr>\n      <th>1213</th>\n      <td>Can we get an update on this?</td>\n      <td>Science Ama Series: I am Stephen Hawking, theo...</td>\n      <td>0.000000</td>\n      <td>1.561072</td>\n      <td>4.0</td>\n      <td>4.0</td>\n      <td>0.0</td>\n      <td></td>\n      <td>32.0</td>\n    </tr>\n    <tr>\n      <th>1214</th>\n      <td>Hi Professor Hawking. Thank you very much for ...</td>\n      <td>Science Ama Series: I am Stephen Hawking, theo...</td>\n      <td>0.053003</td>\n      <td>9.059358</td>\n      <td>178.0</td>\n      <td>114.0</td>\n      <td>0.0</td>\n      <td></td>\n      <td>3255.0</td>\n    </tr>\n    <tr>\n      <th>1215</th>\n      <td>Hello sir, thank you for the AMA. What laypers...</td>\n      <td>Science Ama Series: I am Stephen Hawking, theo...</td>\n      <td>0.077944</td>\n      <td>2.810865</td>\n      <td>12.0</td>\n      <td>9.0</td>\n      <td>0.0</td>\n      <td></td>\n      <td>1179.0</td>\n    </tr>\n  </tbody>\n</table>\n</div>"
     },
     "metadata": {}
    }
   ],
   "source": [
    "\n",
    "inspect = df.loc[[1201]]\n",
    "print(inspect[[\"submission\"]].to_string())\n",
    "print(inspect[[\"body\"]].to_string())\n",
    "display(inspect[[\"topic_similarity\", \"tfidf_score\", \"words_count\", \"stop_words_count\", \"bad_words_count\", \"bad_words\", \"label\"]])\n",
    "\n",
    "idxr = 1200\n",
    "display(df[[\"body\", \"submission\", \"topic_similarity\", \"tfidf_score\", \"words_count\", \"stop_words_count\", \"bad_words_count\", \"bad_words\", \"label\"]][idxr:idxr+16])"
   ]
  },
  {
   "cell_type": "code",
   "execution_count": 128,
   "metadata": {
    "tags": []
   },
   "outputs": [
    {
     "output_type": "stream",
     "name": "stdout",
     "text": [
      "(8850, 1)\n(311, 1)\n(311, 5)\n0.0    142\n1.0    140\n2.0     23\n3.0      6\nName: y, dtype: int64\n\n\nMean 0.2772887323943662\n"
     ]
    },
    {
     "output_type": "display_data",
     "data": {
      "text/plain": "0.0    245\n1.0     66\nName: pred, dtype: int64"
     },
     "metadata": {}
    },
    {
     "output_type": "display_data",
     "data": {
      "text/plain": "0.0    142\n1.0    140\n2.0     23\n3.0      6\nName: true, dtype: int64"
     },
     "metadata": {}
    }
   ],
   "source": [
    "#Import Gaussian Naive Bayes model\n",
    "from sklearn.naive_bayes import GaussianNB, MultinomialNB\n",
    "from sklearn.preprocessing import MinMaxScaler, KBinsDiscretizer\n",
    "from sklearn.model_selection import train_test_split, StratifiedKFold\n",
    "from sklearn import metrics\n",
    "import numpy as np\n",
    "\n",
    "# Drop indexs more from lower score and less from higher score\n",
    "# https://stackoverflow.com/questions/28556942/pandas-remove-rows-at-random-without-shuffling-dataset/28557333#28557333\n",
    "# np.random.seed(10)\n",
    "\n",
    "feature_list = [\"topic_similarity\", \"tfidf_score\", \"words_count\", \"stop_words_count\", \"bad_words_count\"]\n",
    "\n",
    "#display(data)\n",
    "\n",
    "X = df[feature_list]\n",
    "y = df[[\"label\"]]\n",
    "\n",
    "# X = df[df.label > 1000][feature_list]\n",
    "# y = df[df.label > 1000][[\"label\"]]\n",
    "# print(y.shape)\n",
    "# print(X.shape)\n",
    "\n",
    "# Bin all of y first\n",
    "bins = 4\n",
    "est = KBinsDiscretizer(n_bins=bins, encode='ordinal', strategy='uniform')\n",
    "est.fit(y)\n",
    "yt = pd.DataFrame(data=est.transform(y), columns=[\"y\"])\n",
    "\n",
    "y_filtered_drop = yt[yt.y == 0][:8850]\n",
    "yt_filtered = yt.drop(index=y_filtered_drop.index)\n",
    "X_filtered = X.drop(index=y_filtered_drop.index)\n",
    "\n",
    "print(y_filtered_drop.shape)\n",
    "print(yt_filtered.shape)\n",
    "print(X_filtered.shape)\n",
    "\n",
    "print(yt_filtered[\"y\"].value_counts())\n",
    "\n",
    "\n",
    "#df[\"est_label\"] = yt\n",
    "#display(pd.DataFrame(data=yt, columns=[\"y\"])[\"y\"].value_counts())\n",
    "#display(df[[*feature_list, \"label\", \"est_label\"]])\n",
    "#display(df[\"label\"])\n",
    "\n",
    "\n",
    "# Bad idea to do random split with so skewed data   \n",
    "#data = scaler.transform(data)\n",
    "#X_train, X_validate, y_train, y_validate = train_test_split(X, yt, test_size=0.7) \n",
    "\n",
    "\n",
    "# https://stats.stackexchange.com/questions/131255/class-imbalance-in-supervised-machine-learning\n",
    "# https://datascience.stackexchange.com/questions/32818/train-test-split-of-unbalanced-dataset-classification/32820#32820\n",
    "# https://scikit-learn.org/stable/modules/generated/sklearn.model_selection.StratifiedKFold.html\n",
    "skf = StratifiedKFold(n_splits=5, random_state=42, shuffle=False)\n",
    "# skf.get_n_splits(X, yt)\n",
    "accuracies = []\n",
    "predictions = np.array([])\n",
    "true_values = np.array([])\n",
    "\n",
    "for train_index, test_index in skf.split(X_filtered, yt_filtered):\n",
    "    # print(\"TRAIN:\", train_index, \"TEST:\", test_index)\n",
    "    X_train, X_validate = X_filtered.iloc[train_index], X_filtered.iloc[test_index]\n",
    "    y_train, y_validate = yt_filtered.iloc[train_index], yt_filtered.iloc[test_index]\n",
    "\n",
    "    #scaler = MinMaxScaler(min=0, max=1)\n",
    "    scaler = MinMaxScaler()\n",
    "    scaler.fit(X_train, y_train) # Don't cheat: fit only training data. y is ignored, but needs same shape[rows]\n",
    "\n",
    "    #Create a Gaussian Classifier\n",
    "    model = MultinomialNB()\n",
    "\n",
    "    # Train the model using the training sets\n",
    "    model.fit(scaler.transform(X_train), y_train)\n",
    "    y_pred = model.predict(scaler.transform(X_validate))\n",
    "\n",
    "    # At this point, the model can classify all 0 positively, but no more\n",
    "    accuracy = metrics.accuracy_score(y_validate, y_pred, normalize=True)\n",
    "    # TODO: balanced - https://stackoverflow.com/questions/55838262/why-does-cross-validation-give-consistently-higher-scores-than-normal-fitting-an\n",
    "    #accuracy = metrics.balanced_accuracy_score(y_validate, y_pred, adjusted=True)\n",
    "    # TODO: https://stats.stackexchange.com/questions/99667/naive-bayes-with-unbalanced-classes\n",
    "\n",
    "    # display\n",
    "    accuracies.append(accuracy)\n",
    "    predictions = np.append(predictions, y_pred)\n",
    "    true_values = np.append(true_values, y_validate)\n",
    "    # print(accuracy)\n",
    "\n",
    "    # accuracy_zeros = metrics.accuracy_score(y_validate, [0]*len(y_validate), normalize=True)\n",
    "    # print(accuracy_zeros)\n",
    "\n",
    "# TODO: https://scikit-learn.org/stable/modules/generated/sklearn.metrics.balanced_accuracy_score.html\n",
    "print(\"\\n\\nMean\", np.mean(accuracies))\n",
    "results = pd.DataFrame(data={\"pred\": predictions, \"true\": true_values})\n",
    "display(results[\"pred\"].value_counts())\n",
    "display(results[\"true\"].value_counts())\n"
   ]
  },
  {
   "cell_type": "code",
   "execution_count": null,
   "metadata": {},
   "outputs": [],
   "source": []
  }
 ]
}