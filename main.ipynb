{
 "metadata": {
  "language_info": {
   "codemirror_mode": {
    "name": "ipython",
    "version": 3
   },
   "file_extension": ".py",
   "mimetype": "text/x-python",
   "name": "python",
   "nbconvert_exporter": "python",
   "pygments_lexer": "ipython3",
   "version": "3.8.3-final"
  },
  "orig_nbformat": 2,
  "kernelspec": {
   "name": "Python 3.8.3 64-bit ('python_modules')",
   "display_name": "Python 3.8.3 64-bit ('python_modules')",
   "metadata": {
    "interpreter": {
     "hash": "9634d4b890a726f71d8044046bc71cdc391c406dc663847f104c7db04bcb4cdc"
    }
   }
  }
 },
 "nbformat": 4,
 "nbformat_minor": 2,
 "cells": [
  {
   "cell_type": "code",
   "execution_count": 1,
   "metadata": {},
   "outputs": [
    {
     "output_type": "display_data",
     "data": {
      "text/plain": "                                                   body          subreddit  \\\n0                          *What if Jod was one of us?*          askreddit   \n1     A large chunk of my taking the lord's name in ...          askreddit   \n2     Do you want a Holy War? Because that's how you...          askreddit   \n3     He would also say, “my name isn’t God” then he...          askreddit   \n4     We’d be like, “No way!” and he’d be like, “Yah...          askreddit   \n...                                                 ...                ...   \n1494  As was explained elsewhere, the basic answer i...  explainlikeimfive   \n1495  Teeth don' t just get holes.\\n\\nThey get littl...  explainlikeimfive   \n1496  Bone is a living tissue with direct blood supp...  explainlikeimfive   \n1497  Teeth aren’t bones. They are derived from ecto...  explainlikeimfive   \n1498  As a species we don't care about nice teeth ca...  explainlikeimfive   \n\n                                             submission  tfidf_score  \\\n0     What if God came down one day and said \"It's p...            0   \n1     What if God came down one day and said \"It's p...            0   \n2     What if God came down one day and said \"It's p...            0   \n3     What if God came down one day and said \"It's p...            0   \n4     What if God came down one day and said \"It's p...            0   \n...                                                 ...          ...   \n1494  Eli5: why is when a bone shatters it can rebui...            0   \n1495  Eli5: why is when a bone shatters it can rebui...            0   \n1496  Eli5: why is when a bone shatters it can rebui...            0   \n1497  Eli5: why is when a bone shatters it can rebui...            0   \n1498  Eli5: why is when a bone shatters it can rebui...            0   \n\n      tfidf_custom_score  length  sentences  common_word  words_count  \\\n0                      0       0          0            0            0   \n1                      0       0          0            0            0   \n2                      0       0          0            0            0   \n3                      0       0          0            0            0   \n4                      0       0          0            0            0   \n...                  ...     ...        ...          ...          ...   \n1494                   0       0          0            0            0   \n1495                   0       0          0            0            0   \n1496                   0       0          0            0            0   \n1497                   0       0          0            0            0   \n1498                   0       0          0            0            0   \n\n      stop_words_count  bad_words_count bad_words  letter_count  emoticons  \\\n0                    0                0                       0      False   \n1                    0                0                       0      False   \n2                    0                0                       0      False   \n3                    0                0                       0      False   \n4                    0                0                       0      False   \n...                ...              ...       ...           ...        ...   \n1494                 0                0                       0      False   \n1495                 0                0                       0      False   \n1496                 0                0                       0      False   \n1497                 0                0                       0      False   \n1498                 0                0                       0      False   \n\n      aspectual_class  reichenbach_tense  topic_similarity  label  \n0                   0                  0                 0    753  \n1                   0                  0                 0  41889  \n2                   0                  0                 0  26323  \n3                   0                  0                 0   6585  \n4                   0                  0                 0  20301  \n...               ...                ...               ...    ...  \n1494                0                  0                 0      1  \n1495                0                  0                 0      1  \n1496                0                  0                 0      1  \n1497                0                  0                 0      1  \n1498                0                  0                 0      1  \n\n[1499 rows x 18 columns]",
      "text/html": "<div>\n<style scoped>\n    .dataframe tbody tr th:only-of-type {\n        vertical-align: middle;\n    }\n\n    .dataframe tbody tr th {\n        vertical-align: top;\n    }\n\n    .dataframe thead th {\n        text-align: right;\n    }\n</style>\n<table border=\"1\" class=\"dataframe\">\n  <thead>\n    <tr style=\"text-align: right;\">\n      <th></th>\n      <th>body</th>\n      <th>subreddit</th>\n      <th>submission</th>\n      <th>tfidf_score</th>\n      <th>tfidf_custom_score</th>\n      <th>length</th>\n      <th>sentences</th>\n      <th>common_word</th>\n      <th>words_count</th>\n      <th>stop_words_count</th>\n      <th>bad_words_count</th>\n      <th>bad_words</th>\n      <th>letter_count</th>\n      <th>emoticons</th>\n      <th>aspectual_class</th>\n      <th>reichenbach_tense</th>\n      <th>topic_similarity</th>\n      <th>label</th>\n    </tr>\n  </thead>\n  <tbody>\n    <tr>\n      <th>0</th>\n      <td>*What if Jod was one of us?*</td>\n      <td>askreddit</td>\n      <td>What if God came down one day and said \"It's p...</td>\n      <td>0</td>\n      <td>0</td>\n      <td>0</td>\n      <td>0</td>\n      <td>0</td>\n      <td>0</td>\n      <td>0</td>\n      <td>0</td>\n      <td></td>\n      <td>0</td>\n      <td>False</td>\n      <td>0</td>\n      <td>0</td>\n      <td>0</td>\n      <td>753</td>\n    </tr>\n    <tr>\n      <th>1</th>\n      <td>A large chunk of my taking the lord's name in ...</td>\n      <td>askreddit</td>\n      <td>What if God came down one day and said \"It's p...</td>\n      <td>0</td>\n      <td>0</td>\n      <td>0</td>\n      <td>0</td>\n      <td>0</td>\n      <td>0</td>\n      <td>0</td>\n      <td>0</td>\n      <td></td>\n      <td>0</td>\n      <td>False</td>\n      <td>0</td>\n      <td>0</td>\n      <td>0</td>\n      <td>41889</td>\n    </tr>\n    <tr>\n      <th>2</th>\n      <td>Do you want a Holy War? Because that's how you...</td>\n      <td>askreddit</td>\n      <td>What if God came down one day and said \"It's p...</td>\n      <td>0</td>\n      <td>0</td>\n      <td>0</td>\n      <td>0</td>\n      <td>0</td>\n      <td>0</td>\n      <td>0</td>\n      <td>0</td>\n      <td></td>\n      <td>0</td>\n      <td>False</td>\n      <td>0</td>\n      <td>0</td>\n      <td>0</td>\n      <td>26323</td>\n    </tr>\n    <tr>\n      <th>3</th>\n      <td>He would also say, “my name isn’t God” then he...</td>\n      <td>askreddit</td>\n      <td>What if God came down one day and said \"It's p...</td>\n      <td>0</td>\n      <td>0</td>\n      <td>0</td>\n      <td>0</td>\n      <td>0</td>\n      <td>0</td>\n      <td>0</td>\n      <td>0</td>\n      <td></td>\n      <td>0</td>\n      <td>False</td>\n      <td>0</td>\n      <td>0</td>\n      <td>0</td>\n      <td>6585</td>\n    </tr>\n    <tr>\n      <th>4</th>\n      <td>We’d be like, “No way!” and he’d be like, “Yah...</td>\n      <td>askreddit</td>\n      <td>What if God came down one day and said \"It's p...</td>\n      <td>0</td>\n      <td>0</td>\n      <td>0</td>\n      <td>0</td>\n      <td>0</td>\n      <td>0</td>\n      <td>0</td>\n      <td>0</td>\n      <td></td>\n      <td>0</td>\n      <td>False</td>\n      <td>0</td>\n      <td>0</td>\n      <td>0</td>\n      <td>20301</td>\n    </tr>\n    <tr>\n      <th>...</th>\n      <td>...</td>\n      <td>...</td>\n      <td>...</td>\n      <td>...</td>\n      <td>...</td>\n      <td>...</td>\n      <td>...</td>\n      <td>...</td>\n      <td>...</td>\n      <td>...</td>\n      <td>...</td>\n      <td>...</td>\n      <td>...</td>\n      <td>...</td>\n      <td>...</td>\n      <td>...</td>\n      <td>...</td>\n      <td>...</td>\n    </tr>\n    <tr>\n      <th>1494</th>\n      <td>As was explained elsewhere, the basic answer i...</td>\n      <td>explainlikeimfive</td>\n      <td>Eli5: why is when a bone shatters it can rebui...</td>\n      <td>0</td>\n      <td>0</td>\n      <td>0</td>\n      <td>0</td>\n      <td>0</td>\n      <td>0</td>\n      <td>0</td>\n      <td>0</td>\n      <td></td>\n      <td>0</td>\n      <td>False</td>\n      <td>0</td>\n      <td>0</td>\n      <td>0</td>\n      <td>1</td>\n    </tr>\n    <tr>\n      <th>1495</th>\n      <td>Teeth don' t just get holes.\\n\\nThey get littl...</td>\n      <td>explainlikeimfive</td>\n      <td>Eli5: why is when a bone shatters it can rebui...</td>\n      <td>0</td>\n      <td>0</td>\n      <td>0</td>\n      <td>0</td>\n      <td>0</td>\n      <td>0</td>\n      <td>0</td>\n      <td>0</td>\n      <td></td>\n      <td>0</td>\n      <td>False</td>\n      <td>0</td>\n      <td>0</td>\n      <td>0</td>\n      <td>1</td>\n    </tr>\n    <tr>\n      <th>1496</th>\n      <td>Bone is a living tissue with direct blood supp...</td>\n      <td>explainlikeimfive</td>\n      <td>Eli5: why is when a bone shatters it can rebui...</td>\n      <td>0</td>\n      <td>0</td>\n      <td>0</td>\n      <td>0</td>\n      <td>0</td>\n      <td>0</td>\n      <td>0</td>\n      <td>0</td>\n      <td></td>\n      <td>0</td>\n      <td>False</td>\n      <td>0</td>\n      <td>0</td>\n      <td>0</td>\n      <td>1</td>\n    </tr>\n    <tr>\n      <th>1497</th>\n      <td>Teeth aren’t bones. They are derived from ecto...</td>\n      <td>explainlikeimfive</td>\n      <td>Eli5: why is when a bone shatters it can rebui...</td>\n      <td>0</td>\n      <td>0</td>\n      <td>0</td>\n      <td>0</td>\n      <td>0</td>\n      <td>0</td>\n      <td>0</td>\n      <td>0</td>\n      <td></td>\n      <td>0</td>\n      <td>False</td>\n      <td>0</td>\n      <td>0</td>\n      <td>0</td>\n      <td>1</td>\n    </tr>\n    <tr>\n      <th>1498</th>\n      <td>As a species we don't care about nice teeth ca...</td>\n      <td>explainlikeimfive</td>\n      <td>Eli5: why is when a bone shatters it can rebui...</td>\n      <td>0</td>\n      <td>0</td>\n      <td>0</td>\n      <td>0</td>\n      <td>0</td>\n      <td>0</td>\n      <td>0</td>\n      <td>0</td>\n      <td></td>\n      <td>0</td>\n      <td>False</td>\n      <td>0</td>\n      <td>0</td>\n      <td>0</td>\n      <td>1</td>\n    </tr>\n  </tbody>\n</table>\n<p>1499 rows × 18 columns</p>\n</div>"
     },
     "metadata": {}
    }
   ],
   "source": [
    "import matplotlib as mpl\n",
    "import matplotlib.pyplot as plt\n",
    "from modules.tfidf_custom import TfIdfCustom\n",
    "from modules.tfidf import TfIdf\n",
    "from modules.word_stats import WordStats\n",
    "from modules.similarity import Similarity\n",
    "from models.knnreg import KnnReg\n",
    "from modules.data import fetch_fresh, load_pickle, save_pickle\n",
    "from modules.stats import score_distribution_plot, words_count_plot, tfidf_custom_score_plot, topic_similarity_score_plot\n",
    "import pandas as pd\n",
    "# from scipy.stats import binned_statistic\n",
    "import sys\n",
    "import argparse\n",
    "pickle_df = load_pickle(\"okt-11-1499c.p\")\n",
    "display(pickle_df)"
   ]
  },
  {
   "cell_type": "code",
   "execution_count": 25,
   "metadata": {},
   "outputs": [],
   "source": [
    "pd.options.display.min_rows = 100\n",
    "#pd.options.display.max_rows = set larger than dataset\n",
    "pd.options.display.max_columns = 20\n",
    "%matplotlib inline\n",
    "mpl.rcParams[\"figure.figsize\"] = 15,8"
   ]
  },
  {
   "cell_type": "code",
   "execution_count": 3,
   "metadata": {},
   "outputs": [],
   "source": [
    "df = pickle_df.copy()"
   ]
  },
  {
   "cell_type": "code",
   "execution_count": 23,
   "metadata": {},
   "outputs": [],
   "source": [
    "\n",
    "similarity = Similarity()\n",
    "similarity.score(df) # \"topic_similarity\"\n",
    "\n",
    "word_stats = WordStats()\n",
    "df = word_stats.score(df) # \"words_count\", \"stop_words_count\", \"bad_words_count\", \"bad_words\"\n",
    "\n",
    "tfidf_custom = TfIdfCustom()\n",
    "df = tfidf_custom.score(df) # \"tfidf_custom_score\"\n",
    "\n",
    "tfidf = TfIdf()\n",
    "df = tfidf.score(df) # \"tfidf_score\""
   ]
  },
  {
   "cell_type": "code",
   "execution_count": 50,
   "metadata": {},
   "outputs": [
    {
     "output_type": "stream",
     "name": "stdout",
     "text": [
      "                                                      submission\n1201  NY Times: Trump paid $750 in US income taxes in 2016, 2017\n                                                                                                                                                                           body\n1201  Thats a drop in the bucket compared to what he is robbing the government for.\\n\\nRemember when he promised to only charge secret service $50 to stay at trump properties?\n"
     ]
    },
    {
     "output_type": "display_data",
     "data": {
      "text/plain": "      topic_similarity  tfidf_score  words_count  stop_words_count  \\\n1201          0.054277      4.02545         18.0              15.0   \n\n      bad_words_count bad_words  label  \n1201              0.0            132.0  ",
      "text/html": "<div>\n<style scoped>\n    .dataframe tbody tr th:only-of-type {\n        vertical-align: middle;\n    }\n\n    .dataframe tbody tr th {\n        vertical-align: top;\n    }\n\n    .dataframe thead th {\n        text-align: right;\n    }\n</style>\n<table border=\"1\" class=\"dataframe\">\n  <thead>\n    <tr style=\"text-align: right;\">\n      <th></th>\n      <th>topic_similarity</th>\n      <th>tfidf_score</th>\n      <th>words_count</th>\n      <th>stop_words_count</th>\n      <th>bad_words_count</th>\n      <th>bad_words</th>\n      <th>label</th>\n    </tr>\n  </thead>\n  <tbody>\n    <tr>\n      <th>1201</th>\n      <td>0.054277</td>\n      <td>4.02545</td>\n      <td>18.0</td>\n      <td>15.0</td>\n      <td>0.0</td>\n      <td></td>\n      <td>132.0</td>\n    </tr>\n  </tbody>\n</table>\n</div>"
     },
     "metadata": {}
    },
    {
     "output_type": "display_data",
     "data": {
      "text/plain": "                                                   body  \\\n1200  >Income tax payments help finance the military...   \n1201  Thats a drop in the bucket compared to what he...   \n1202  Reading through the article the one thing that...   \n1203  Forget EVERYTHING else he did and imagine that...   \n1204  Before anybody says \"he's smart\" and that's wh...   \n1205  Top response in /conservative with almost 1000...   \n1206  We need an entirely new tax code.  It won’t ha...   \n1207  \"That's smart business sense. All billionaires...   \n1208  If Trump claims this isn't correct, he'll have...   \n1209          Look how well he lives on borrowed money.   \n1210  I can’t believe that I’ve paid more in taxes i...   \n1211  Imagine saying you’re worth billions and payin...   \n1212              I’m so sick to death of this grifter.   \n1213  There is no way that the American people shoul...   \n1214  Oh boy, that's embarrassing. But this won't ch...   \n1215  70,000 in hair right offs?? How does that even...   \n\n                                             submission  topic_similarity  \\\n1200  NY Times: Trump paid $750 in US income taxes i...          0.074283   \n1201  NY Times: Trump paid $750 in US income taxes i...          0.054277   \n1202  NY Times: Trump paid $750 in US income taxes i...          0.101213   \n1203  NY Times: Trump paid $750 in US income taxes i...          0.000000   \n1204  NY Times: Trump paid $750 in US income taxes i...          0.055460   \n1205  NY Times: Trump paid $750 in US income taxes i...          0.115998   \n1206  NY Times: Trump paid $750 in US income taxes i...          0.036684   \n1207  NY Times: Trump paid $750 in US income taxes i...          0.000000   \n1208  NY Times: Trump paid $750 in US income taxes i...          0.055550   \n1209  NY Times: Trump paid $750 in US income taxes i...          0.000000   \n1210  NY Times: Trump paid $750 in US income taxes i...          0.059560   \n1211  NY Times: Trump paid $750 in US income taxes i...          0.012666   \n1212  NY Times: Trump paid $750 in US income taxes i...          0.000000   \n1213  NY Times: Trump paid $750 in US income taxes i...          0.112846   \n1214  NY Times: Trump paid $750 in US income taxes i...          0.018135   \n1215  NY Times: Trump paid $750 in US income taxes i...          0.000000   \n\n      tfidf_score  words_count  stop_words_count  bad_words_count  bad_words  \\\n1200     3.228242         14.0               6.0              0.0              \n1201     4.025450         18.0              15.0              0.0              \n1202     6.288738         57.0              56.0              0.0              \n1203     4.027567         23.0              15.0              0.0              \n1204     5.147238         52.0              27.0              0.0              \n1205     4.767019         39.0              23.0              1.0       fuck   \n1206     4.139582         43.0              18.0              0.0              \n1207     3.124706         17.0               6.0              0.0              \n1208     2.694468         16.0               6.0              0.0              \n1209     2.198844          6.0               3.0              0.0              \n1210     6.663324         66.0              61.0              1.0       shit   \n1211     4.584483         27.0              10.0              1.0       fuck   \n1212     1.954365          6.0               5.0              0.0              \n1213    10.559054        364.0             312.0              2.0  rape,fuck   \n1214     3.065044         19.0               5.0              1.0       shit   \n1215     4.042659         28.0              18.0              0.0              \n\n      label  \n1200   20.0  \n1201  132.0  \n1202   41.0  \n1203   40.0  \n1204   54.0  \n1205  130.0  \n1206  120.0  \n1207   78.0  \n1208   18.0  \n1209   59.0  \n1210   18.0  \n1211   16.0  \n1212   16.0  \n1213   16.0  \n1214   15.0  \n1215   15.0  ",
      "text/html": "<div>\n<style scoped>\n    .dataframe tbody tr th:only-of-type {\n        vertical-align: middle;\n    }\n\n    .dataframe tbody tr th {\n        vertical-align: top;\n    }\n\n    .dataframe thead th {\n        text-align: right;\n    }\n</style>\n<table border=\"1\" class=\"dataframe\">\n  <thead>\n    <tr style=\"text-align: right;\">\n      <th></th>\n      <th>body</th>\n      <th>submission</th>\n      <th>topic_similarity</th>\n      <th>tfidf_score</th>\n      <th>words_count</th>\n      <th>stop_words_count</th>\n      <th>bad_words_count</th>\n      <th>bad_words</th>\n      <th>label</th>\n    </tr>\n  </thead>\n  <tbody>\n    <tr>\n      <th>1200</th>\n      <td>&gt;Income tax payments help finance the military...</td>\n      <td>NY Times: Trump paid $750 in US income taxes i...</td>\n      <td>0.074283</td>\n      <td>3.228242</td>\n      <td>14.0</td>\n      <td>6.0</td>\n      <td>0.0</td>\n      <td></td>\n      <td>20.0</td>\n    </tr>\n    <tr>\n      <th>1201</th>\n      <td>Thats a drop in the bucket compared to what he...</td>\n      <td>NY Times: Trump paid $750 in US income taxes i...</td>\n      <td>0.054277</td>\n      <td>4.025450</td>\n      <td>18.0</td>\n      <td>15.0</td>\n      <td>0.0</td>\n      <td></td>\n      <td>132.0</td>\n    </tr>\n    <tr>\n      <th>1202</th>\n      <td>Reading through the article the one thing that...</td>\n      <td>NY Times: Trump paid $750 in US income taxes i...</td>\n      <td>0.101213</td>\n      <td>6.288738</td>\n      <td>57.0</td>\n      <td>56.0</td>\n      <td>0.0</td>\n      <td></td>\n      <td>41.0</td>\n    </tr>\n    <tr>\n      <th>1203</th>\n      <td>Forget EVERYTHING else he did and imagine that...</td>\n      <td>NY Times: Trump paid $750 in US income taxes i...</td>\n      <td>0.000000</td>\n      <td>4.027567</td>\n      <td>23.0</td>\n      <td>15.0</td>\n      <td>0.0</td>\n      <td></td>\n      <td>40.0</td>\n    </tr>\n    <tr>\n      <th>1204</th>\n      <td>Before anybody says \"he's smart\" and that's wh...</td>\n      <td>NY Times: Trump paid $750 in US income taxes i...</td>\n      <td>0.055460</td>\n      <td>5.147238</td>\n      <td>52.0</td>\n      <td>27.0</td>\n      <td>0.0</td>\n      <td></td>\n      <td>54.0</td>\n    </tr>\n    <tr>\n      <th>1205</th>\n      <td>Top response in /conservative with almost 1000...</td>\n      <td>NY Times: Trump paid $750 in US income taxes i...</td>\n      <td>0.115998</td>\n      <td>4.767019</td>\n      <td>39.0</td>\n      <td>23.0</td>\n      <td>1.0</td>\n      <td>fuck</td>\n      <td>130.0</td>\n    </tr>\n    <tr>\n      <th>1206</th>\n      <td>We need an entirely new tax code.  It won’t ha...</td>\n      <td>NY Times: Trump paid $750 in US income taxes i...</td>\n      <td>0.036684</td>\n      <td>4.139582</td>\n      <td>43.0</td>\n      <td>18.0</td>\n      <td>0.0</td>\n      <td></td>\n      <td>120.0</td>\n    </tr>\n    <tr>\n      <th>1207</th>\n      <td>\"That's smart business sense. All billionaires...</td>\n      <td>NY Times: Trump paid $750 in US income taxes i...</td>\n      <td>0.000000</td>\n      <td>3.124706</td>\n      <td>17.0</td>\n      <td>6.0</td>\n      <td>0.0</td>\n      <td></td>\n      <td>78.0</td>\n    </tr>\n    <tr>\n      <th>1208</th>\n      <td>If Trump claims this isn't correct, he'll have...</td>\n      <td>NY Times: Trump paid $750 in US income taxes i...</td>\n      <td>0.055550</td>\n      <td>2.694468</td>\n      <td>16.0</td>\n      <td>6.0</td>\n      <td>0.0</td>\n      <td></td>\n      <td>18.0</td>\n    </tr>\n    <tr>\n      <th>1209</th>\n      <td>Look how well he lives on borrowed money.</td>\n      <td>NY Times: Trump paid $750 in US income taxes i...</td>\n      <td>0.000000</td>\n      <td>2.198844</td>\n      <td>6.0</td>\n      <td>3.0</td>\n      <td>0.0</td>\n      <td></td>\n      <td>59.0</td>\n    </tr>\n    <tr>\n      <th>1210</th>\n      <td>I can’t believe that I’ve paid more in taxes i...</td>\n      <td>NY Times: Trump paid $750 in US income taxes i...</td>\n      <td>0.059560</td>\n      <td>6.663324</td>\n      <td>66.0</td>\n      <td>61.0</td>\n      <td>1.0</td>\n      <td>shit</td>\n      <td>18.0</td>\n    </tr>\n    <tr>\n      <th>1211</th>\n      <td>Imagine saying you’re worth billions and payin...</td>\n      <td>NY Times: Trump paid $750 in US income taxes i...</td>\n      <td>0.012666</td>\n      <td>4.584483</td>\n      <td>27.0</td>\n      <td>10.0</td>\n      <td>1.0</td>\n      <td>fuck</td>\n      <td>16.0</td>\n    </tr>\n    <tr>\n      <th>1212</th>\n      <td>I’m so sick to death of this grifter.</td>\n      <td>NY Times: Trump paid $750 in US income taxes i...</td>\n      <td>0.000000</td>\n      <td>1.954365</td>\n      <td>6.0</td>\n      <td>5.0</td>\n      <td>0.0</td>\n      <td></td>\n      <td>16.0</td>\n    </tr>\n    <tr>\n      <th>1213</th>\n      <td>There is no way that the American people shoul...</td>\n      <td>NY Times: Trump paid $750 in US income taxes i...</td>\n      <td>0.112846</td>\n      <td>10.559054</td>\n      <td>364.0</td>\n      <td>312.0</td>\n      <td>2.0</td>\n      <td>rape,fuck</td>\n      <td>16.0</td>\n    </tr>\n    <tr>\n      <th>1214</th>\n      <td>Oh boy, that's embarrassing. But this won't ch...</td>\n      <td>NY Times: Trump paid $750 in US income taxes i...</td>\n      <td>0.018135</td>\n      <td>3.065044</td>\n      <td>19.0</td>\n      <td>5.0</td>\n      <td>1.0</td>\n      <td>shit</td>\n      <td>15.0</td>\n    </tr>\n    <tr>\n      <th>1215</th>\n      <td>70,000 in hair right offs?? How does that even...</td>\n      <td>NY Times: Trump paid $750 in US income taxes i...</td>\n      <td>0.000000</td>\n      <td>4.042659</td>\n      <td>28.0</td>\n      <td>18.0</td>\n      <td>0.0</td>\n      <td></td>\n      <td>15.0</td>\n    </tr>\n  </tbody>\n</table>\n</div>"
     },
     "metadata": {}
    }
   ],
   "source": [
    "\n",
    "inspect = df.loc[[1201]]\n",
    "print(inspect[[\"submission\"]].to_string())\n",
    "print(inspect[[\"body\"]].to_string())\n",
    "display(inspect[[\"topic_similarity\", \"tfidf_score\", \"words_count\", \"stop_words_count\", \"bad_words_count\", \"bad_words\", \"label\"]])\n",
    "\n",
    "idxr = 1200\n",
    "display(df[[\"body\", \"submission\", \"topic_similarity\", \"tfidf_score\", \"words_count\", \"stop_words_count\", \"bad_words_count\", \"bad_words\", \"label\"]][idxr:idxr+16])"
   ]
  },
  {
   "cell_type": "code",
   "execution_count": 6,
   "metadata": {
    "tags": []
   },
   "outputs": [],
   "source": [
    "#Import Gaussian Naive Bayes model\n",
    "from sklearn.naive_bayes import GaussianNB\n",
    "from sklearn.model_selection import train_test_split\n",
    "from sklearn import metrics\n",
    "\n",
    "feature_list = [\"topic_similarity\", \"tfidf_score\", \"words_count\", \"stop_words_count\", \"bad_words_count\", \"bad_words\"]\n",
    "y = df.pop('label')\n",
    "X = df[feature_list]\n",
    "\n",
    "X_train, X_validate, y_train, y_validate = train_test_split(X, y, test_size=split, random_state=2)\n",
    "\n",
    "#Create a Gaussian Classifier\n",
    "gnb = GaussianNB()\n",
    "\n",
    "# Train the model using the training sets\n",
    "gnb.fit(X_train, y_train)\n",
    "\n",
    "y_pred = gnb.predict(X_validate)\n",
    "\n",
    "metrics.accuracy_score(y_test, y_pred))\n",
    "\n",
    "\n"
   ]
  }
 ]
}