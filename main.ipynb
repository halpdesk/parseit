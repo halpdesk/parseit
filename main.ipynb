{
 "metadata": {
  "language_info": {
   "codemirror_mode": {
    "name": "ipython",
    "version": 3
   },
   "file_extension": ".py",
   "mimetype": "text/x-python",
   "name": "python",
   "nbconvert_exporter": "python",
   "pygments_lexer": "ipython3",
   "version": "3.8.3-final"
  },
  "orig_nbformat": 2,
  "kernelspec": {
   "name": "Python 3.8.3 64-bit ('python_modules')",
   "display_name": "Python 3.8.3 64-bit ('python_modules')",
   "metadata": {
    "interpreter": {
     "hash": "9634d4b890a726f71d8044046bc71cdc391c406dc663847f104c7db04bcb4cdc"
    }
   }
  }
 },
 "nbformat": 4,
 "nbformat_minor": 2,
 "cells": [
  {
   "cell_type": "code",
   "execution_count": 1,
   "metadata": {},
   "outputs": [
    {
     "output_type": "display_data",
     "data": {
      "text/plain": "                                                   body          subreddit  \\\n0                          *What if Jod was one of us?*          askreddit   \n1     A large chunk of my taking the lord's name in ...          askreddit   \n2     Do you want a Holy War? Because that's how you...          askreddit   \n3     He would also say, “my name isn’t God” then he...          askreddit   \n4     We’d be like, “No way!” and he’d be like, “Yah...          askreddit   \n...                                                 ...                ...   \n1494  As was explained elsewhere, the basic answer i...  explainlikeimfive   \n1495  Teeth don' t just get holes.\\n\\nThey get littl...  explainlikeimfive   \n1496  Bone is a living tissue with direct blood supp...  explainlikeimfive   \n1497  Teeth aren’t bones. They are derived from ecto...  explainlikeimfive   \n1498  As a species we don't care about nice teeth ca...  explainlikeimfive   \n\n                                             submission  tfidf_score  \\\n0     What if God came down one day and said \"It's p...            0   \n1     What if God came down one day and said \"It's p...            0   \n2     What if God came down one day and said \"It's p...            0   \n3     What if God came down one day and said \"It's p...            0   \n4     What if God came down one day and said \"It's p...            0   \n...                                                 ...          ...   \n1494  Eli5: why is when a bone shatters it can rebui...            0   \n1495  Eli5: why is when a bone shatters it can rebui...            0   \n1496  Eli5: why is when a bone shatters it can rebui...            0   \n1497  Eli5: why is when a bone shatters it can rebui...            0   \n1498  Eli5: why is when a bone shatters it can rebui...            0   \n\n      tfidf_custom_score  length  sentences  common_word  words_count  \\\n0                      0       0          0            0            0   \n1                      0       0          0            0            0   \n2                      0       0          0            0            0   \n3                      0       0          0            0            0   \n4                      0       0          0            0            0   \n...                  ...     ...        ...          ...          ...   \n1494                   0       0          0            0            0   \n1495                   0       0          0            0            0   \n1496                   0       0          0            0            0   \n1497                   0       0          0            0            0   \n1498                   0       0          0            0            0   \n\n      stop_words_count  bad_words_count bad_words  letter_count  emoticons  \\\n0                    0                0                       0      False   \n1                    0                0                       0      False   \n2                    0                0                       0      False   \n3                    0                0                       0      False   \n4                    0                0                       0      False   \n...                ...              ...       ...           ...        ...   \n1494                 0                0                       0      False   \n1495                 0                0                       0      False   \n1496                 0                0                       0      False   \n1497                 0                0                       0      False   \n1498                 0                0                       0      False   \n\n      aspectual_class  reichenbach_tense  topic_similarity  label  \n0                   0                  0                 0    753  \n1                   0                  0                 0  41889  \n2                   0                  0                 0  26323  \n3                   0                  0                 0   6585  \n4                   0                  0                 0  20301  \n...               ...                ...               ...    ...  \n1494                0                  0                 0      1  \n1495                0                  0                 0      1  \n1496                0                  0                 0      1  \n1497                0                  0                 0      1  \n1498                0                  0                 0      1  \n\n[1499 rows x 18 columns]",
      "text/html": "<div>\n<style scoped>\n    .dataframe tbody tr th:only-of-type {\n        vertical-align: middle;\n    }\n\n    .dataframe tbody tr th {\n        vertical-align: top;\n    }\n\n    .dataframe thead th {\n        text-align: right;\n    }\n</style>\n<table border=\"1\" class=\"dataframe\">\n  <thead>\n    <tr style=\"text-align: right;\">\n      <th></th>\n      <th>body</th>\n      <th>subreddit</th>\n      <th>submission</th>\n      <th>tfidf_score</th>\n      <th>tfidf_custom_score</th>\n      <th>length</th>\n      <th>sentences</th>\n      <th>common_word</th>\n      <th>words_count</th>\n      <th>stop_words_count</th>\n      <th>bad_words_count</th>\n      <th>bad_words</th>\n      <th>letter_count</th>\n      <th>emoticons</th>\n      <th>aspectual_class</th>\n      <th>reichenbach_tense</th>\n      <th>topic_similarity</th>\n      <th>label</th>\n    </tr>\n  </thead>\n  <tbody>\n    <tr>\n      <th>0</th>\n      <td>*What if Jod was one of us?*</td>\n      <td>askreddit</td>\n      <td>What if God came down one day and said \"It's p...</td>\n      <td>0</td>\n      <td>0</td>\n      <td>0</td>\n      <td>0</td>\n      <td>0</td>\n      <td>0</td>\n      <td>0</td>\n      <td>0</td>\n      <td></td>\n      <td>0</td>\n      <td>False</td>\n      <td>0</td>\n      <td>0</td>\n      <td>0</td>\n      <td>753</td>\n    </tr>\n    <tr>\n      <th>1</th>\n      <td>A large chunk of my taking the lord's name in ...</td>\n      <td>askreddit</td>\n      <td>What if God came down one day and said \"It's p...</td>\n      <td>0</td>\n      <td>0</td>\n      <td>0</td>\n      <td>0</td>\n      <td>0</td>\n      <td>0</td>\n      <td>0</td>\n      <td>0</td>\n      <td></td>\n      <td>0</td>\n      <td>False</td>\n      <td>0</td>\n      <td>0</td>\n      <td>0</td>\n      <td>41889</td>\n    </tr>\n    <tr>\n      <th>2</th>\n      <td>Do you want a Holy War? Because that's how you...</td>\n      <td>askreddit</td>\n      <td>What if God came down one day and said \"It's p...</td>\n      <td>0</td>\n      <td>0</td>\n      <td>0</td>\n      <td>0</td>\n      <td>0</td>\n      <td>0</td>\n      <td>0</td>\n      <td>0</td>\n      <td></td>\n      <td>0</td>\n      <td>False</td>\n      <td>0</td>\n      <td>0</td>\n      <td>0</td>\n      <td>26323</td>\n    </tr>\n    <tr>\n      <th>3</th>\n      <td>He would also say, “my name isn’t God” then he...</td>\n      <td>askreddit</td>\n      <td>What if God came down one day and said \"It's p...</td>\n      <td>0</td>\n      <td>0</td>\n      <td>0</td>\n      <td>0</td>\n      <td>0</td>\n      <td>0</td>\n      <td>0</td>\n      <td>0</td>\n      <td></td>\n      <td>0</td>\n      <td>False</td>\n      <td>0</td>\n      <td>0</td>\n      <td>0</td>\n      <td>6585</td>\n    </tr>\n    <tr>\n      <th>4</th>\n      <td>We’d be like, “No way!” and he’d be like, “Yah...</td>\n      <td>askreddit</td>\n      <td>What if God came down one day and said \"It's p...</td>\n      <td>0</td>\n      <td>0</td>\n      <td>0</td>\n      <td>0</td>\n      <td>0</td>\n      <td>0</td>\n      <td>0</td>\n      <td>0</td>\n      <td></td>\n      <td>0</td>\n      <td>False</td>\n      <td>0</td>\n      <td>0</td>\n      <td>0</td>\n      <td>20301</td>\n    </tr>\n    <tr>\n      <th>...</th>\n      <td>...</td>\n      <td>...</td>\n      <td>...</td>\n      <td>...</td>\n      <td>...</td>\n      <td>...</td>\n      <td>...</td>\n      <td>...</td>\n      <td>...</td>\n      <td>...</td>\n      <td>...</td>\n      <td>...</td>\n      <td>...</td>\n      <td>...</td>\n      <td>...</td>\n      <td>...</td>\n      <td>...</td>\n      <td>...</td>\n    </tr>\n    <tr>\n      <th>1494</th>\n      <td>As was explained elsewhere, the basic answer i...</td>\n      <td>explainlikeimfive</td>\n      <td>Eli5: why is when a bone shatters it can rebui...</td>\n      <td>0</td>\n      <td>0</td>\n      <td>0</td>\n      <td>0</td>\n      <td>0</td>\n      <td>0</td>\n      <td>0</td>\n      <td>0</td>\n      <td></td>\n      <td>0</td>\n      <td>False</td>\n      <td>0</td>\n      <td>0</td>\n      <td>0</td>\n      <td>1</td>\n    </tr>\n    <tr>\n      <th>1495</th>\n      <td>Teeth don' t just get holes.\\n\\nThey get littl...</td>\n      <td>explainlikeimfive</td>\n      <td>Eli5: why is when a bone shatters it can rebui...</td>\n      <td>0</td>\n      <td>0</td>\n      <td>0</td>\n      <td>0</td>\n      <td>0</td>\n      <td>0</td>\n      <td>0</td>\n      <td>0</td>\n      <td></td>\n      <td>0</td>\n      <td>False</td>\n      <td>0</td>\n      <td>0</td>\n      <td>0</td>\n      <td>1</td>\n    </tr>\n    <tr>\n      <th>1496</th>\n      <td>Bone is a living tissue with direct blood supp...</td>\n      <td>explainlikeimfive</td>\n      <td>Eli5: why is when a bone shatters it can rebui...</td>\n      <td>0</td>\n      <td>0</td>\n      <td>0</td>\n      <td>0</td>\n      <td>0</td>\n      <td>0</td>\n      <td>0</td>\n      <td>0</td>\n      <td></td>\n      <td>0</td>\n      <td>False</td>\n      <td>0</td>\n      <td>0</td>\n      <td>0</td>\n      <td>1</td>\n    </tr>\n    <tr>\n      <th>1497</th>\n      <td>Teeth aren’t bones. They are derived from ecto...</td>\n      <td>explainlikeimfive</td>\n      <td>Eli5: why is when a bone shatters it can rebui...</td>\n      <td>0</td>\n      <td>0</td>\n      <td>0</td>\n      <td>0</td>\n      <td>0</td>\n      <td>0</td>\n      <td>0</td>\n      <td>0</td>\n      <td></td>\n      <td>0</td>\n      <td>False</td>\n      <td>0</td>\n      <td>0</td>\n      <td>0</td>\n      <td>1</td>\n    </tr>\n    <tr>\n      <th>1498</th>\n      <td>As a species we don't care about nice teeth ca...</td>\n      <td>explainlikeimfive</td>\n      <td>Eli5: why is when a bone shatters it can rebui...</td>\n      <td>0</td>\n      <td>0</td>\n      <td>0</td>\n      <td>0</td>\n      <td>0</td>\n      <td>0</td>\n      <td>0</td>\n      <td>0</td>\n      <td></td>\n      <td>0</td>\n      <td>False</td>\n      <td>0</td>\n      <td>0</td>\n      <td>0</td>\n      <td>1</td>\n    </tr>\n  </tbody>\n</table>\n<p>1499 rows × 18 columns</p>\n</div>"
     },
     "metadata": {}
    }
   ],
   "source": [
    "import matplotlib as mpl\n",
    "import matplotlib.pyplot as plt\n",
    "from modules.tfidf_custom import TfIdfCustom\n",
    "from modules.tfidf import TfIdf\n",
    "from modules.word_stats import WordStats\n",
    "from modules.similarity import Similarity\n",
    "from models.knnreg import KnnReg\n",
    "from modules.data import fetch_fresh, load_pickle, save_pickle\n",
    "from modules.stats import score_distribution_plot, words_count_plot, tfidf_custom_score_plot, topic_similarity_score_plot\n",
    "import pandas as pd\n",
    "# from scipy.stats import binned_statistic\n",
    "import sys\n",
    "import argparse\n",
    "pickle_df = load_pickle(\"okt-11-1499c.p\")\n",
    "display(pickle_df)"
   ]
  },
  {
   "cell_type": "code",
   "execution_count": 2,
   "metadata": {},
   "outputs": [],
   "source": [
    "pd.options.display.max_rows = 16\n",
    "pd.options.display.max_columns = 20\n",
    "%matplotlib inline\n",
    "mpl.rcParams[\"figure.figsize\"] = 15,8"
   ]
  },
  {
   "cell_type": "code",
   "execution_count": 3,
   "metadata": {},
   "outputs": [],
   "source": [
    "df = pickle_df.copy()"
   ]
  },
  {
   "cell_type": "code",
   "execution_count": 4,
   "metadata": {},
   "outputs": [],
   "source": [
    "\n",
    "similarity = Similarity()\n",
    "similarity.score(df) # \"topic_similarity\"\n",
    "\n",
    "word_stats = WordStats()\n",
    "df = word_stats.score(df) # \"words_count\", \"stop_words_count\", \"bad_words_count\", \"bad_words\"\n",
    "\n",
    "tfidf_custom = TfIdfCustom()\n",
    "df = tfidf_custom.score(df) # \"tfidf_custom_score\""
   ]
  },
  {
   "cell_type": "code",
   "execution_count": 33,
   "metadata": {
    "tags": []
   },
   "outputs": [
    {
     "output_type": "display_data",
     "data": {
      "text/plain": "                                                   body  \\\n1000  Same day the Cornell study dropped about him b...   \n1001  May he receive all the kindness, love, sympath...   \n1002  Regardless of your politics. Wear a goddamn mask.   \n1003  “This has to be the best case of covid, ever. ...   \n1004  This could be the most upvoted Reddit post in ...   \n1005                   2020 coming in with a plot twist   \n1006  Trump. Bolsanoro. Johnson. All three have test...   \n1007  I want Dr. Fauci to confirm Trump’s sickness. ...   \n1008                 Somebody call /r/leopardsatemyface   \n1009  Masks work - please continue to wear them to s...   \n1010  10 bucks says its bullshit and he'll make \"the...   \n1011  How pathetic is it that's he's so full of shit...   \n\n                                             submission  topic_similarity  \\\n1000  President Donald Trump says he has tested posi...          0.000000   \n1001  President Donald Trump says he has tested posi...          0.000000   \n1002  President Donald Trump says he has tested posi...          0.000000   \n1003  President Donald Trump says he has tested posi...          0.042867   \n1004  President Donald Trump says he has tested posi...          0.000000   \n1005  President Donald Trump says he has tested posi...          0.000000   \n1006  President Donald Trump says he has tested posi...          0.339098   \n1007  President Donald Trump says he has tested posi...          0.025896   \n1008  President Donald Trump says he has tested posi...          0.000000   \n1009  President Donald Trump says he has tested posi...          0.000000   \n1010  President Donald Trump says he has tested posi...          0.081788   \n1011  President Donald Trump says he has tested posi...          0.000000   \n\n      tfidf_score  words_count  stop_words_count  bad_words_count bad_words  \\\n1000     3.291424         12.0               7.0              0.0             \n1001     3.450360         17.0              14.0              0.0             \n1002     2.231736          7.0               3.0              0.0             \n1003     3.342683         19.0               7.0              0.0             \n1004     1.998194          7.0               4.0              0.0             \n1005     1.994672          4.0               3.0              0.0             \n1006     2.399240         10.0               2.0              0.0             \n1007     5.792889         51.0              24.0              0.0             \n1008     1.727949          3.0               0.0              0.0             \n1009     3.412545         14.0               8.0              0.0             \n1010     3.723022         21.0              10.0              1.0  bullshit   \n1011     3.422523         15.0              13.0              1.0      shit   \n\n        label  \n1000   1811.0  \n1001    429.0  \n1002  12308.0  \n1003   9298.0  \n1004   1498.0  \n1005  34176.0  \n1006    577.0  \n1007   5800.0  \n1008   6444.0  \n1009   1050.0  \n1010   2565.0  \n1011    187.0  ",
      "text/html": "<div>\n<style scoped>\n    .dataframe tbody tr th:only-of-type {\n        vertical-align: middle;\n    }\n\n    .dataframe tbody tr th {\n        vertical-align: top;\n    }\n\n    .dataframe thead th {\n        text-align: right;\n    }\n</style>\n<table border=\"1\" class=\"dataframe\">\n  <thead>\n    <tr style=\"text-align: right;\">\n      <th></th>\n      <th>body</th>\n      <th>submission</th>\n      <th>topic_similarity</th>\n      <th>tfidf_score</th>\n      <th>words_count</th>\n      <th>stop_words_count</th>\n      <th>bad_words_count</th>\n      <th>bad_words</th>\n      <th>label</th>\n    </tr>\n  </thead>\n  <tbody>\n    <tr>\n      <th>1000</th>\n      <td>Same day the Cornell study dropped about him b...</td>\n      <td>President Donald Trump says he has tested posi...</td>\n      <td>0.000000</td>\n      <td>3.291424</td>\n      <td>12.0</td>\n      <td>7.0</td>\n      <td>0.0</td>\n      <td></td>\n      <td>1811.0</td>\n    </tr>\n    <tr>\n      <th>1001</th>\n      <td>May he receive all the kindness, love, sympath...</td>\n      <td>President Donald Trump says he has tested posi...</td>\n      <td>0.000000</td>\n      <td>3.450360</td>\n      <td>17.0</td>\n      <td>14.0</td>\n      <td>0.0</td>\n      <td></td>\n      <td>429.0</td>\n    </tr>\n    <tr>\n      <th>1002</th>\n      <td>Regardless of your politics. Wear a goddamn mask.</td>\n      <td>President Donald Trump says he has tested posi...</td>\n      <td>0.000000</td>\n      <td>2.231736</td>\n      <td>7.0</td>\n      <td>3.0</td>\n      <td>0.0</td>\n      <td></td>\n      <td>12308.0</td>\n    </tr>\n    <tr>\n      <th>1003</th>\n      <td>“This has to be the best case of covid, ever. ...</td>\n      <td>President Donald Trump says he has tested posi...</td>\n      <td>0.042867</td>\n      <td>3.342683</td>\n      <td>19.0</td>\n      <td>7.0</td>\n      <td>0.0</td>\n      <td></td>\n      <td>9298.0</td>\n    </tr>\n    <tr>\n      <th>1004</th>\n      <td>This could be the most upvoted Reddit post in ...</td>\n      <td>President Donald Trump says he has tested posi...</td>\n      <td>0.000000</td>\n      <td>1.998194</td>\n      <td>7.0</td>\n      <td>4.0</td>\n      <td>0.0</td>\n      <td></td>\n      <td>1498.0</td>\n    </tr>\n    <tr>\n      <th>1005</th>\n      <td>2020 coming in with a plot twist</td>\n      <td>President Donald Trump says he has tested posi...</td>\n      <td>0.000000</td>\n      <td>1.994672</td>\n      <td>4.0</td>\n      <td>3.0</td>\n      <td>0.0</td>\n      <td></td>\n      <td>34176.0</td>\n    </tr>\n    <tr>\n      <th>1006</th>\n      <td>Trump. Bolsanoro. Johnson. All three have test...</td>\n      <td>President Donald Trump says he has tested posi...</td>\n      <td>0.339098</td>\n      <td>2.399240</td>\n      <td>10.0</td>\n      <td>2.0</td>\n      <td>0.0</td>\n      <td></td>\n      <td>577.0</td>\n    </tr>\n    <tr>\n      <th>1007</th>\n      <td>I want Dr. Fauci to confirm Trump’s sickness. ...</td>\n      <td>President Donald Trump says he has tested posi...</td>\n      <td>0.025896</td>\n      <td>5.792889</td>\n      <td>51.0</td>\n      <td>24.0</td>\n      <td>0.0</td>\n      <td></td>\n      <td>5800.0</td>\n    </tr>\n    <tr>\n      <th>1008</th>\n      <td>Somebody call /r/leopardsatemyface</td>\n      <td>President Donald Trump says he has tested posi...</td>\n      <td>0.000000</td>\n      <td>1.727949</td>\n      <td>3.0</td>\n      <td>0.0</td>\n      <td>0.0</td>\n      <td></td>\n      <td>6444.0</td>\n    </tr>\n    <tr>\n      <th>1009</th>\n      <td>Masks work - please continue to wear them to s...</td>\n      <td>President Donald Trump says he has tested posi...</td>\n      <td>0.000000</td>\n      <td>3.412545</td>\n      <td>14.0</td>\n      <td>8.0</td>\n      <td>0.0</td>\n      <td></td>\n      <td>1050.0</td>\n    </tr>\n    <tr>\n      <th>1010</th>\n      <td>10 bucks says its bullshit and he'll make \"the...</td>\n      <td>President Donald Trump says he has tested posi...</td>\n      <td>0.081788</td>\n      <td>3.723022</td>\n      <td>21.0</td>\n      <td>10.0</td>\n      <td>1.0</td>\n      <td>bullshit</td>\n      <td>2565.0</td>\n    </tr>\n    <tr>\n      <th>1011</th>\n      <td>How pathetic is it that's he's so full of shit...</td>\n      <td>President Donald Trump says he has tested posi...</td>\n      <td>0.000000</td>\n      <td>3.422523</td>\n      <td>15.0</td>\n      <td>13.0</td>\n      <td>1.0</td>\n      <td>shit</td>\n      <td>187.0</td>\n    </tr>\n  </tbody>\n</table>\n</div>"
     },
     "metadata": {}
    }
   ],
   "source": [
    "\n",
    "from sklearn.feature_extraction.text import TfidfVectorizer\n",
    "from sklearn.metrics.pairwise import linear_kernel\n",
    "from nltk.corpus import stopwords\n",
    "from nltk.tokenize import word_tokenize\n",
    "from nltk.stem import WordNetLemmatizer\n",
    "import numpy as np\n",
    "stop_words = set(stopwords.words(\"english\"))\n",
    "\n",
    "\n",
    "class LemmaTokenizer:\n",
    "    ignore_tokens = [',', '.', ';', ':', '\"', '``', \"''\", '`', '[removed]', '>', '*', '_']\n",
    "    def __init__(self):\n",
    "        self.wnl = WordNetLemmatizer()\n",
    "    def __call__(self, doc):\n",
    "        return [self.wnl.lemmatize(t) for t in word_tokenize(doc) if t not in self.ignore_tokens]\n",
    "\n",
    "# Lemmatize the stop words\n",
    "tokenizer=LemmaTokenizer()\n",
    "token_stop = tokenizer(' '.join(stop_words))\n",
    "\n",
    "submissions = set(df.get(\"submission\"))\n",
    "\n",
    "for submission in submissions:\n",
    "    submission_df = df[df.submission == submission]\n",
    "    # use all stop words (and ignore_tokens) with the tokenizer interfaced for sklearn above\n",
    "    vectorizer = TfidfVectorizer(stop_words=token_stop, tokenizer=tokenizer)\n",
    "    doc_vectors = vectorizer.fit_transform([submission] + submission_df.get(\"body\").values.tolist())\n",
    "    tfidf_scores = []\n",
    "    for i in range(doc_vectors.shape[0]):\n",
    "        arr = doc_vectors[i].toarray()\n",
    "        tfidf_scores.append(\n",
    "            sum(arr[0]) / len(np.nonzero(arr[0]))\n",
    "        )\n",
    "    submission_df[\"tfidf_score\"] = tfidf_scores[1:] # the first one is the submission itself\n",
    "    df.update(submission_df)\n",
    "\n",
    "idx = 1000\n",
    "display(df[[\"body\", \"submission\", \"topic_similarity\", \"tfidf_score\", \"words_count\", \"stop_words_count\", \"bad_words_count\", \"bad_words\", \"label\"]][idx:idx+12])\n",
    "\n",
    "# display(df[[\"body\", \"submission\", \"topic_similarity\", \"tfidf_score\", \"words_count\", \"stop_words_count\", \"bad_words_count\", \"bad_words\", \"label\"]][df[\"body\"] == \"[removed]\"][idx:idx+12])\n",
    "\n",
    "# place tf-idf values in a pandas data frame\n",
    "#df_tfidf = pd.DataFrame(first_vector.T.todense(), index=tfidf_vectorizer.get_feature_names(), columns=[\"tfidf\"])\n",
    "#df_tfidf.sort_values(by=[\"tfidf\"],ascending=False)\n",
    "#\n",
    "#df_tfidf[df_tfidf[\"tfidf\"]!=0]\n",
    "\n",
    "\n"
   ]
  }
 ]
}