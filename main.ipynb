{
 "metadata": {
  "language_info": {
   "codemirror_mode": {
    "name": "ipython",
    "version": 3
   },
   "file_extension": ".py",
   "mimetype": "text/x-python",
   "name": "python",
   "nbconvert_exporter": "python",
   "pygments_lexer": "ipython3",
   "version": "3.8.3-final"
  },
  "orig_nbformat": 2,
  "kernelspec": {
   "name": "Python 3.8.3 64-bit ('python_modules')",
   "display_name": "Python 3.8.3 64-bit ('python_modules')",
   "metadata": {
    "interpreter": {
     "hash": "9634d4b890a726f71d8044046bc71cdc391c406dc663847f104c7db04bcb4cdc"
    }
   }
  }
 },
 "nbformat": 4,
 "nbformat_minor": 2,
 "cells": [
  {
   "cell_type": "code",
   "execution_count": 50,
   "metadata": {},
   "outputs": [],
   "source": [
    "import matplotlib as mpl\n",
    "import matplotlib.pyplot as plt\n",
    "from modules.tfidf_custom import TfIdfCustom\n",
    "from modules.tfidf import TfIdf\n",
    "from modules.word_stats import WordStats\n",
    "from modules.similarity import Similarity\n",
    "from models.knnreg import KnnReg\n",
    "from modules.data import load_pickle\n",
    "from modules.stats import score_distribution_plot, words_count_plot, tfidf_custom_score_plot, topic_similarity_score_plot\n",
    "import pandas as pd\n",
    "# from scipy.stats import binned_statistic\n",
    "import sys\n",
    "import argparse\n",
    "\n",
    "pd.options.display.min_rows = 100\n",
    "#pd.options.display.max_rows = set larger than dataset\n",
    "pd.options.display.max_columns = 20\n",
    "%matplotlib inline\n",
    "mpl.rcParams[\"figure.figsize\"] = 15,8\n",
    "\n",
    "pickle_df = load_pickle(\"okt-5-43896c.p\")"
   ]
  },
  {
   "cell_type": "code",
   "execution_count": 29,
   "metadata": {},
   "outputs": [],
   "source": [
    "df = pickle_df.copy()"
   ]
  },
  {
   "cell_type": "code",
   "execution_count": 30,
   "metadata": {},
   "outputs": [],
   "source": [
    "# remove noise\n",
    "df = df[df[\"body\"] != \"[removed]\"]\n",
    "df = df.reset_index()"
   ]
  },
  {
   "cell_type": "code",
   "execution_count": 31,
   "metadata": {},
   "outputs": [],
   "source": [
    "similarity = Similarity()\n",
    "similarity.score(df) # \"topic_similarity\""
   ]
  },
  {
   "cell_type": "code",
   "execution_count": null,
   "metadata": {},
   "outputs": [],
   "source": [
    "word_stats = WordStats()\n",
    "df = word_stats.score(df) # \"words_count\", \"stop_words_count\", \"bad_words_count\", \"bad_words\""
   ]
  },
  {
   "cell_type": "code",
   "execution_count": null,
   "metadata": {},
   "outputs": [],
   "source": [
    "tfidf_custom = TfIdfCustom()\n",
    "df = tfidf_custom.score(df) # \"tfidf_custom_score\""
   ]
  },
  {
   "cell_type": "code",
   "execution_count": null,
   "metadata": {},
   "outputs": [],
   "source": [
    "tfidf = TfIdf()\n",
    "df = tfidf.score(df) # \"tfidf_score\""
   ]
  },
  {
   "cell_type": "code",
   "execution_count": 32,
   "metadata": {},
   "outputs": [
    {
     "output_type": "stream",
     "name": "stdout",
     "text": [
      "                                        submission\n1201  What's the dumbest way you've gotten a scar?\n                                                                                                                                                                                                                                                                                                                                                                                                                                                                                                                                                                                                                                                                                                                                                                                                                                                                                                                                                                                                                                                                  body\n1201  I punched a pint glass one night when I was drunk back in college. \\n\\nIt ended up slicing my finger *really* badly, like there was a flap of skin that came up. Went to the bathroom and ran it under water, but it just kept bleeding. I didn't know what to do and was too drunk to try to deal with it, so I just wrapped my hand in a towel and tried to go to sleep.\\n\\nWoke up to knocking at my door and it ended up being security. He followed a trail of blood from the bathroom to my room and wanted to make sure I was alright. I showed him my finger and he was like, \"Come on, you gotta go to the hospital.\" Dude was a bro and drove me there even though it was like 3am. Saw a doctor and he had to give me a bunch of stitches. He said I was very lucky because if it was just a tiny bit deeper I would have probably had done permanant damage and lost mobility of the finger.\\n\\nNow I have [this scar on my finger shaped like a Nike swoosh](https://i.imgur.com/cEhQRG0.jpg) to remind me not to be stupid and try to fight glass.\n"
     ]
    },
    {
     "output_type": "display_data",
     "data": {
      "text/plain": "      topic_similarity  tfidf_score  words_count  stop_words_count  \\\n1201          0.010885     8.612723        131.0             106.0   \n\n      bad_words_count bad_words   label  \n1201              0.0            1082.0  ",
      "text/html": "<div>\n<style scoped>\n    .dataframe tbody tr th:only-of-type {\n        vertical-align: middle;\n    }\n\n    .dataframe tbody tr th {\n        vertical-align: top;\n    }\n\n    .dataframe thead th {\n        text-align: right;\n    }\n</style>\n<table border=\"1\" class=\"dataframe\">\n  <thead>\n    <tr style=\"text-align: right;\">\n      <th></th>\n      <th>topic_similarity</th>\n      <th>tfidf_score</th>\n      <th>words_count</th>\n      <th>stop_words_count</th>\n      <th>bad_words_count</th>\n      <th>bad_words</th>\n      <th>label</th>\n    </tr>\n  </thead>\n  <tbody>\n    <tr>\n      <th>1201</th>\n      <td>0.010885</td>\n      <td>8.612723</td>\n      <td>131.0</td>\n      <td>106.0</td>\n      <td>0.0</td>\n      <td></td>\n      <td>1082.0</td>\n    </tr>\n  </tbody>\n</table>\n</div>"
     },
     "metadata": {}
    },
    {
     "output_type": "display_data",
     "data": {
      "text/plain": "                                                   body  \\\n1200  I have a white dot from where a wasp stung me ...   \n1201  I punched a pint glass one night when I was dr...   \n1202  My government stored 2700 tons of ammonium nit...   \n1203  I'm late to the party, but I have an actual st...   \n1204  Bit myself. I saw something I didn't want to f...   \n1205  Was probably 10 when I fought with my younger ...   \n1206  I always see landscapers using weed-whackers w...   \n1207  Reaching into the oven to pull out a pie. My f...   \n1208  I didn’t want to go to work one day when I was...   \n1209  Tripped over a fucking football and destroyed ...   \n1210                                               Cat.   \n1211  Mom: Don't pinch that pimple now, you'll get a...   \n1212  My friend had one of those plastic bag sealers...   \n1213  3 year old me thought it would be fun to pull ...   \n1214  Slipped in the bathtub when I was 3 in Disney ...   \n1215  Getting my bulldog jealous because of some ran...   \n\n                                        submission  topic_similarity  \\\n1200  What's the dumbest way you've gotten a scar?          0.000000   \n1201  What's the dumbest way you've gotten a scar?          0.010885   \n1202  What's the dumbest way you've gotten a scar?          0.020518   \n1203  What's the dumbest way you've gotten a scar?          0.068577   \n1204  What's the dumbest way you've gotten a scar?          0.048192   \n1205  What's the dumbest way you've gotten a scar?          0.025059   \n1206  What's the dumbest way you've gotten a scar?          0.018832   \n1207  What's the dumbest way you've gotten a scar?          0.044559   \n1208  What's the dumbest way you've gotten a scar?          0.068785   \n1209  What's the dumbest way you've gotten a scar?          0.028630   \n1210  What's the dumbest way you've gotten a scar?          0.000000   \n1211  What's the dumbest way you've gotten a scar?          0.074640   \n1212  What's the dumbest way you've gotten a scar?          0.025075   \n1213  What's the dumbest way you've gotten a scar?          0.060039   \n1214  What's the dumbest way you've gotten a scar?          0.000000   \n1215  What's the dumbest way you've gotten a scar?          0.000000   \n\n      tfidf_score  words_count  stop_words_count  bad_words_count bad_words  \\\n1200     2.792818          8.0               7.0              0.0             \n1201     8.612723        131.0             106.0              0.0             \n1202     5.322606         32.0              23.0              0.0             \n1203    12.465150        358.0             296.0              2.0  ass,shit   \n1204     3.715110         35.0              19.0              0.0             \n1205     4.630866         26.0              25.0              1.0    snatch   \n1206     5.818649         47.0              28.0              1.0  bullshit   \n1207     4.795856         31.0              33.0              0.0             \n1208     4.627119         29.0              30.0              0.0             \n1209     4.066667         24.0              19.0              1.0      fuck   \n1210     1.000000          2.0               0.0              0.0             \n1211     2.941480         21.0              11.0              0.0             \n1212     4.676893         27.0              19.0              0.0             \n1213     5.523395         44.0              32.0              1.0      fuck   \n1214     4.985202         32.0              25.0              0.0             \n1215     4.086491         23.0              16.0              1.0    snatch   \n\n       label  \n1200   428.0  \n1201  1082.0  \n1202   461.0  \n1203    89.0  \n1204   516.0  \n1205   240.0  \n1206    81.0  \n1207    71.0  \n1208   232.0  \n1209   179.0  \n1210   236.0  \n1211   198.0  \n1212   102.0  \n1213    52.0  \n1214    51.0  \n1215   258.0  ",
      "text/html": "<div>\n<style scoped>\n    .dataframe tbody tr th:only-of-type {\n        vertical-align: middle;\n    }\n\n    .dataframe tbody tr th {\n        vertical-align: top;\n    }\n\n    .dataframe thead th {\n        text-align: right;\n    }\n</style>\n<table border=\"1\" class=\"dataframe\">\n  <thead>\n    <tr style=\"text-align: right;\">\n      <th></th>\n      <th>body</th>\n      <th>submission</th>\n      <th>topic_similarity</th>\n      <th>tfidf_score</th>\n      <th>words_count</th>\n      <th>stop_words_count</th>\n      <th>bad_words_count</th>\n      <th>bad_words</th>\n      <th>label</th>\n    </tr>\n  </thead>\n  <tbody>\n    <tr>\n      <th>1200</th>\n      <td>I have a white dot from where a wasp stung me ...</td>\n      <td>What's the dumbest way you've gotten a scar?</td>\n      <td>0.000000</td>\n      <td>2.792818</td>\n      <td>8.0</td>\n      <td>7.0</td>\n      <td>0.0</td>\n      <td></td>\n      <td>428.0</td>\n    </tr>\n    <tr>\n      <th>1201</th>\n      <td>I punched a pint glass one night when I was dr...</td>\n      <td>What's the dumbest way you've gotten a scar?</td>\n      <td>0.010885</td>\n      <td>8.612723</td>\n      <td>131.0</td>\n      <td>106.0</td>\n      <td>0.0</td>\n      <td></td>\n      <td>1082.0</td>\n    </tr>\n    <tr>\n      <th>1202</th>\n      <td>My government stored 2700 tons of ammonium nit...</td>\n      <td>What's the dumbest way you've gotten a scar?</td>\n      <td>0.020518</td>\n      <td>5.322606</td>\n      <td>32.0</td>\n      <td>23.0</td>\n      <td>0.0</td>\n      <td></td>\n      <td>461.0</td>\n    </tr>\n    <tr>\n      <th>1203</th>\n      <td>I'm late to the party, but I have an actual st...</td>\n      <td>What's the dumbest way you've gotten a scar?</td>\n      <td>0.068577</td>\n      <td>12.465150</td>\n      <td>358.0</td>\n      <td>296.0</td>\n      <td>2.0</td>\n      <td>ass,shit</td>\n      <td>89.0</td>\n    </tr>\n    <tr>\n      <th>1204</th>\n      <td>Bit myself. I saw something I didn't want to f...</td>\n      <td>What's the dumbest way you've gotten a scar?</td>\n      <td>0.048192</td>\n      <td>3.715110</td>\n      <td>35.0</td>\n      <td>19.0</td>\n      <td>0.0</td>\n      <td></td>\n      <td>516.0</td>\n    </tr>\n    <tr>\n      <th>1205</th>\n      <td>Was probably 10 when I fought with my younger ...</td>\n      <td>What's the dumbest way you've gotten a scar?</td>\n      <td>0.025059</td>\n      <td>4.630866</td>\n      <td>26.0</td>\n      <td>25.0</td>\n      <td>1.0</td>\n      <td>snatch</td>\n      <td>240.0</td>\n    </tr>\n    <tr>\n      <th>1206</th>\n      <td>I always see landscapers using weed-whackers w...</td>\n      <td>What's the dumbest way you've gotten a scar?</td>\n      <td>0.018832</td>\n      <td>5.818649</td>\n      <td>47.0</td>\n      <td>28.0</td>\n      <td>1.0</td>\n      <td>bullshit</td>\n      <td>81.0</td>\n    </tr>\n    <tr>\n      <th>1207</th>\n      <td>Reaching into the oven to pull out a pie. My f...</td>\n      <td>What's the dumbest way you've gotten a scar?</td>\n      <td>0.044559</td>\n      <td>4.795856</td>\n      <td>31.0</td>\n      <td>33.0</td>\n      <td>0.0</td>\n      <td></td>\n      <td>71.0</td>\n    </tr>\n    <tr>\n      <th>1208</th>\n      <td>I didn’t want to go to work one day when I was...</td>\n      <td>What's the dumbest way you've gotten a scar?</td>\n      <td>0.068785</td>\n      <td>4.627119</td>\n      <td>29.0</td>\n      <td>30.0</td>\n      <td>0.0</td>\n      <td></td>\n      <td>232.0</td>\n    </tr>\n    <tr>\n      <th>1209</th>\n      <td>Tripped over a fucking football and destroyed ...</td>\n      <td>What's the dumbest way you've gotten a scar?</td>\n      <td>0.028630</td>\n      <td>4.066667</td>\n      <td>24.0</td>\n      <td>19.0</td>\n      <td>1.0</td>\n      <td>fuck</td>\n      <td>179.0</td>\n    </tr>\n    <tr>\n      <th>1210</th>\n      <td>Cat.</td>\n      <td>What's the dumbest way you've gotten a scar?</td>\n      <td>0.000000</td>\n      <td>1.000000</td>\n      <td>2.0</td>\n      <td>0.0</td>\n      <td>0.0</td>\n      <td></td>\n      <td>236.0</td>\n    </tr>\n    <tr>\n      <th>1211</th>\n      <td>Mom: Don't pinch that pimple now, you'll get a...</td>\n      <td>What's the dumbest way you've gotten a scar?</td>\n      <td>0.074640</td>\n      <td>2.941480</td>\n      <td>21.0</td>\n      <td>11.0</td>\n      <td>0.0</td>\n      <td></td>\n      <td>198.0</td>\n    </tr>\n    <tr>\n      <th>1212</th>\n      <td>My friend had one of those plastic bag sealers...</td>\n      <td>What's the dumbest way you've gotten a scar?</td>\n      <td>0.025075</td>\n      <td>4.676893</td>\n      <td>27.0</td>\n      <td>19.0</td>\n      <td>0.0</td>\n      <td></td>\n      <td>102.0</td>\n    </tr>\n    <tr>\n      <th>1213</th>\n      <td>3 year old me thought it would be fun to pull ...</td>\n      <td>What's the dumbest way you've gotten a scar?</td>\n      <td>0.060039</td>\n      <td>5.523395</td>\n      <td>44.0</td>\n      <td>32.0</td>\n      <td>1.0</td>\n      <td>fuck</td>\n      <td>52.0</td>\n    </tr>\n    <tr>\n      <th>1214</th>\n      <td>Slipped in the bathtub when I was 3 in Disney ...</td>\n      <td>What's the dumbest way you've gotten a scar?</td>\n      <td>0.000000</td>\n      <td>4.985202</td>\n      <td>32.0</td>\n      <td>25.0</td>\n      <td>0.0</td>\n      <td></td>\n      <td>51.0</td>\n    </tr>\n    <tr>\n      <th>1215</th>\n      <td>Getting my bulldog jealous because of some ran...</td>\n      <td>What's the dumbest way you've gotten a scar?</td>\n      <td>0.000000</td>\n      <td>4.086491</td>\n      <td>23.0</td>\n      <td>16.0</td>\n      <td>1.0</td>\n      <td>snatch</td>\n      <td>258.0</td>\n    </tr>\n  </tbody>\n</table>\n</div>"
     },
     "metadata": {}
    }
   ],
   "source": [
    "\n",
    "inspect = df.loc[[1201]]\n",
    "print(inspect[[\"submission\"]].to_string())\n",
    "print(inspect[[\"body\"]].to_string())\n",
    "display(inspect[[\"topic_similarity\", \"tfidf_score\", \"words_count\", \"stop_words_count\", \"bad_words_count\", \"bad_words\", \"label\"]])\n",
    "\n",
    "idxr = 1200\n",
    "display(df[[\"body\", \"submission\", \"topic_similarity\", \"tfidf_score\", \"words_count\", \"stop_words_count\", \"bad_words_count\", \"bad_words\", \"label\"]][idxr:idxr+16])"
   ]
  },
  {
   "cell_type": "code",
   "execution_count": 49,
   "metadata": {
    "tags": []
   },
   "outputs": [
    {
     "output_type": "display_data",
     "data": {
      "text/plain": "1.0    13372\n2.0    11525\n3.0    10620\nName: y, dtype: int64"
     },
     "metadata": {}
    },
    {
     "output_type": "stream",
     "name": "stdout",
     "text": [
      "\n\nMean: 0.37691808466921095\n\n\nMean balanced: 0.33384902171611464\n"
     ]
    },
    {
     "output_type": "display_data",
     "data": {
      "text/plain": "      pred   true\n1.0  35441  13372\n2.0     38  11525\n3.0     38  10620",
      "text/html": "<div>\n<style scoped>\n    .dataframe tbody tr th:only-of-type {\n        vertical-align: middle;\n    }\n\n    .dataframe tbody tr th {\n        vertical-align: top;\n    }\n\n    .dataframe thead th {\n        text-align: right;\n    }\n</style>\n<table border=\"1\" class=\"dataframe\">\n  <thead>\n    <tr style=\"text-align: right;\">\n      <th></th>\n      <th>pred</th>\n      <th>true</th>\n    </tr>\n  </thead>\n  <tbody>\n    <tr>\n      <th>1.0</th>\n      <td>35441</td>\n      <td>13372</td>\n    </tr>\n    <tr>\n      <th>2.0</th>\n      <td>38</td>\n      <td>11525</td>\n    </tr>\n    <tr>\n      <th>3.0</th>\n      <td>38</td>\n      <td>10620</td>\n    </tr>\n  </tbody>\n</table>\n</div>"
     },
     "metadata": {}
    }
   ],
   "source": [
    "#Import Gaussian Naive Bayes model\n",
    "from sklearn.naive_bayes import GaussianNB, MultinomialNB\n",
    "from sklearn.preprocessing import MinMaxScaler, KBinsDiscretizer\n",
    "from sklearn.model_selection import train_test_split, StratifiedKFold\n",
    "from sklearn import metrics\n",
    "import numpy as np\n",
    "\n",
    "# Drop indexs more from lower score and less from higher score\n",
    "# https://stackoverflow.com/questions/28556942/pandas-remove-rows-at-random-without-shuffling-dataset/28557333#28557333\n",
    "# np.random.seed(10)\n",
    "\n",
    "feature_list = [\"topic_similarity\", \"tfidf_score\", \"words_count\", \"stop_words_count\", \"bad_words_count\"]\n",
    "\n",
    "#display(data)\n",
    "\n",
    "X = df[feature_list]\n",
    "y = df[[\"label\"]]\n",
    "\n",
    "# X = df[df.label > 1000][feature_list]\n",
    "# y = df[df.label > 1000][[\"label\"]]\n",
    "# print(y.shape)\n",
    "# print(X.shape)\n",
    "\n",
    "# Bin all of y first\n",
    "# uniform = All bins in each feature have identical widths.\n",
    "# quantile = All bins in each feature have the same number of points.\n",
    "# kmeans = Values in each bin have the same nearest center of a 1D k-means cluster.\n",
    "bins = 4\n",
    "est = KBinsDiscretizer(n_bins=bins, encode='ordinal', strategy=\"quantile\") #\n",
    "est.fit(y)\n",
    "yt = pd.DataFrame(data=est.transform(y), columns=[\"y\"])\n",
    "\n",
    "y_filtered_drop = yt[yt.y == 0][:41000]\n",
    "yt_filtered = yt.drop(index=y_filtered_drop.index)\n",
    "X_filtered = X.drop(index=y_filtered_drop.index)\n",
    "\n",
    "#print(y_filtered_drop.shape)\n",
    "#print(yt_filtered.shape)\n",
    "#print(X_filtered.shape)\n",
    "\n",
    "display(yt_filtered[\"y\"].value_counts())\n",
    "\n",
    "\n",
    "#df[\"est_label\"] = yt\n",
    "#display(pd.DataFrame(data=yt, columns=[\"y\"])[\"y\"].value_counts())\n",
    "#display(df[[*feature_list, \"label\", \"est_label\"]])\n",
    "#display(df[\"label\"])\n",
    "\n",
    "\n",
    "# Bad idea to do random split with so skewed data   \n",
    "#data = scaler.transform(data)\n",
    "#X_train, X_validate, y_train, y_validate = train_test_split(X, yt, test_size=0.7) \n",
    "\n",
    "\n",
    "# https://stats.stackexchange.com/questions/131255/class-imbalance-in-supervised-machine-learning\n",
    "# https://datascience.stackexchange.com/questions/32818/train-test-split-of-unbalanced-dataset-classification/32820#32820\n",
    "# https://scikit-learn.org/stable/modules/generated/sklearn.model_selection.StratifiedKFold.html\n",
    "skf = StratifiedKFold(n_splits=5, random_state=42, shuffle=False)\n",
    "# skf.get_n_splits(X, yt)\n",
    "balanced_accuracies = []\n",
    "accuracies = []\n",
    "predictions = np.array([])\n",
    "true_values = np.array([])\n",
    "\n",
    "for train_index, test_index in skf.split(X_filtered, yt_filtered):\n",
    "    # print(\"TRAIN:\", train_index, \"TEST:\", test_index)\n",
    "    X_train, X_validate = X_filtered.iloc[train_index], X_filtered.iloc[test_index]\n",
    "    y_train, y_true = yt_filtered.iloc[train_index], yt_filtered.iloc[test_index]\n",
    "\n",
    "    #scaler = MinMaxScaler(min=0, max=1)\n",
    "    scaler = MinMaxScaler()\n",
    "    scaler.fit(X_train, y_train) # Don't cheat: fit only training data. y is ignored, but needs same shape[rows]\n",
    "\n",
    "    model = MultinomialNB()\n",
    "\n",
    "    # Train the model using the training sets - scale only features (?)\n",
    "    model.fit(scaler.transform(X_train), y_train)\n",
    "\n",
    "    # Predic the model\n",
    "    y_pred = model.predict(scaler.transform(X_validate))\n",
    "\n",
    "    # At this point, the model can classify all 0 positively, but no more\n",
    "    accuracy = metrics.accuracy_score(y_true, y_pred, normalize=True)\n",
    "    # TODO: balanced - https://stackoverflow.com/questions/55838262/why-does-cross-validation-give-consistently-higher-scores-than-normal-fitting-an\n",
    "    balanced_accuracy = metrics.balanced_accuracy_score(y_true, y_pred, adjusted=False)\n",
    "    # TODO: https://stats.stackexchange.com/questions/99667/naive-bayes-with-unbalanced-classes\n",
    "\n",
    "    # display\n",
    "    \n",
    "    accuracies.append(accuracy)\n",
    "    balanced_accuracies.append(balanced_accuracy)\n",
    "    predictions = np.append(predictions, y_pred)\n",
    "    true_values = np.append(true_values, y_true)\n",
    "    # print(accuracy)\n",
    "\n",
    "    # accuracy_zeros = metrics.accuracy_score(y_validate, [0]*len(y_validate), normalize=True)\n",
    "    # print(accuracy_zeros)\n",
    "\n",
    "# TODO: https://scikit-learn.org/stable/modules/generated/sklearn.metrics.balanced_accuracy_score.html\n",
    "\n",
    "print(\"\\n\\nMean:\", np.mean(accuracies))\n",
    "print(\"\\n\\nMean balanced:\", np.mean(balanced_accuracies))\n",
    "results = pd.DataFrame(data={\"pred\": predictions, \"true\": true_values})\n",
    "counts = pd.DataFrame(data={\"pred\": results[\"pred\"].value_counts(), \"true\": results[\"true\"].value_counts()})\n",
    "display(counts)\n",
    "#results[\"pred_values\"].value_counts()\n",
    "#results[\"true_values\"].value_counts()\n",
    "#display(results[[\"pred_values\", \"true_values\"]])\n"
   ]
  }
 ]
}